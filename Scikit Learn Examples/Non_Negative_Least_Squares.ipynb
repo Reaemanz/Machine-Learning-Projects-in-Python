{
  "cells": [
    {
      "cell_type": "markdown",
      "metadata": {
        "id": "ZgUl39C6icoG"
      },
      "source": [
        "\n",
        "# Non-negative least squares\n",
        "\n",
        "In this example, we fit a linear model with positive constraints on the\n",
        "regression coefficients and compare the estimated coefficients to a classic\n",
        "linear regression.\n"
      ]
    },
    {
      "cell_type": "code",
      "execution_count": 1,
      "metadata": {
        "id": "2rbZyGN8icoJ"
      },
      "outputs": [],
      "source": [
        "import matplotlib.pyplot as plt\n",
        "import numpy as np\n",
        "\n",
        "from sklearn.metrics import r2_score"
      ]
    },
    {
      "cell_type": "markdown",
      "metadata": {
        "id": "WeQNuQwFicoK"
      },
      "source": [
        "Generate some random data\n",
        "\n"
      ]
    },
    {
      "cell_type": "code",
      "execution_count": 2,
      "metadata": {
        "id": "o7AClbhWicoL"
      },
      "outputs": [],
      "source": [
        "np.random.seed(42)\n",
        "\n",
        "n_samples, n_features = 200, 50\n",
        "X = np.random.randn(n_samples, n_features)\n",
        "true_coef = 3 * np.random.randn(n_features)\n",
        "# Threshold coefficients to render them non-negative\n",
        "true_coef[true_coef < 0] = 0\n",
        "y = np.dot(X, true_coef)\n",
        "\n",
        "# Add some noise\n",
        "y += 5 * np.random.normal(size=(n_samples,))"
      ]
    },
    {
      "cell_type": "markdown",
      "metadata": {
        "id": "7KFWQcsticoL"
      },
      "source": [
        "Split the data in train set and test set\n",
        "\n"
      ]
    },
    {
      "cell_type": "code",
      "execution_count": 3,
      "metadata": {
        "id": "YIHR_R-IicoM"
      },
      "outputs": [],
      "source": [
        "from sklearn.model_selection import train_test_split\n",
        "\n",
        "X_train, X_test, y_train, y_test = train_test_split(X, y, test_size=0.5)"
      ]
    },
    {
      "cell_type": "markdown",
      "metadata": {
        "id": "uewyXN5TicoM"
      },
      "source": [
        "Fit the Non-Negative least squares.\n",
        "\n"
      ]
    },
    {
      "cell_type": "code",
      "execution_count": 4,
      "metadata": {
        "colab": {
          "base_uri": "https://localhost:8080/"
        },
        "id": "IDBg4joGicoM",
        "outputId": "fc84cba8-513b-47db-b03d-d22f439ea61a"
      },
      "outputs": [
        {
          "output_type": "stream",
          "name": "stdout",
          "text": [
            "NNLS R2 score 0.8225220806196525\n"
          ]
        }
      ],
      "source": [
        "from sklearn.linear_model import LinearRegression\n",
        "\n",
        "reg_nnls = LinearRegression(positive=True)\n",
        "y_pred_nnls = reg_nnls.fit(X_train, y_train).predict(X_test)\n",
        "r2_score_nnls = r2_score(y_test, y_pred_nnls)\n",
        "print(\"NNLS R2 score\", r2_score_nnls)"
      ]
    },
    {
      "cell_type": "markdown",
      "metadata": {
        "id": "LqaR2yNdicoN"
      },
      "source": [
        "Fit an OLS.\n",
        "\n"
      ]
    },
    {
      "cell_type": "code",
      "execution_count": 5,
      "metadata": {
        "colab": {
          "base_uri": "https://localhost:8080/"
        },
        "id": "VeFZCNL9icoN",
        "outputId": "df098b10-34e4-465d-bda2-c798eb9844e3"
      },
      "outputs": [
        {
          "output_type": "stream",
          "name": "stdout",
          "text": [
            "OLS R2 score 0.7436926291700354\n"
          ]
        }
      ],
      "source": [
        "reg_ols = LinearRegression()\n",
        "y_pred_ols = reg_ols.fit(X_train, y_train).predict(X_test)\n",
        "r2_score_ols = r2_score(y_test, y_pred_ols)\n",
        "print(\"OLS R2 score\", r2_score_ols)"
      ]
    },
    {
      "cell_type": "markdown",
      "metadata": {
        "id": "VX8tGB0GicoO"
      },
      "source": [
        "Comparing the regression coefficients between OLS and NNLS, we can observe\n",
        "they are highly correlated (the dashed line is the identity relation),\n",
        "but the non-negative constraint shrinks some to 0.\n",
        "The Non-Negative Least squares inherently yield sparse results.\n",
        "\n"
      ]
    },
    {
      "cell_type": "code",
      "execution_count": 6,
      "metadata": {
        "colab": {
          "base_uri": "https://localhost:8080/",
          "height": 466
        },
        "id": "T0ry6knqicoO",
        "outputId": "ebf37e71-0b59-4d71-c000-0c396c579c3f"
      },
      "outputs": [
        {
          "output_type": "execute_result",
          "data": {
            "text/plain": [
              "Text(0, 0.5, 'NNLS regression coefficients')"
            ]
          },
          "metadata": {},
          "execution_count": 6
        },
        {
          "output_type": "display_data",
          "data": {
            "text/plain": [
              "<Figure size 640x480 with 1 Axes>"
            ],
            "image/png": "[encoded data removed]"
          },
          "metadata": {}
        }
      ],
      "source": [
        "fig, ax = plt.subplots()\n",
        "ax.plot(reg_ols.coef_, reg_nnls.coef_, linewidth=0, marker=\".\")\n",
        "\n",
        "low_x, high_x = ax.get_xlim()\n",
        "low_y, high_y = ax.get_ylim()\n",
        "low = max(low_x, low_y)\n",
        "high = min(high_x, high_y)\n",
        "ax.plot([low, high], [low, high], ls=\"--\", c=\".3\", alpha=0.5)\n",
        "ax.set_xlabel(\"OLS regression coefficients\", fontweight=\"bold\")\n",
        "ax.set_ylabel(\"NNLS regression coefficients\", fontweight=\"bold\")"
      ]
    }
  ],
  "metadata": {
    "kernelspec": {
      "display_name": "Python 3",
      "language": "python",
      "name": "python3"
    },
    "language_info": {
      "codemirror_mode": {
        "name": "ipython",
        "version": 3
      },
      "file_extension": ".py",
      "mimetype": "text/x-python",
      "name": "python",
      "nbconvert_exporter": "python",
      "pygments_lexer": "ipython3",
      "version": "3.9.16"
    },
    "colab": {
      "provenance": []
    }
  },
  "nbformat": 4,
  "nbformat_minor": 0
}