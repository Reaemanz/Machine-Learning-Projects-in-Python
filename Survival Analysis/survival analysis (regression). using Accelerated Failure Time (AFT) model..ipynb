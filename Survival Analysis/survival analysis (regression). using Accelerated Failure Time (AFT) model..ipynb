{
  "cells": [
    {
      "cell_type": "markdown",
      "metadata": {},
      "source": [
        "\n",
        "# survival analysis (regression).\n",
        "\n",
        "Demo for survival analysis (regression). using Accelerated Failure Time (AFT) model.\n"
      ]
    },
    {
      "cell_type": "code",
      "execution_count": null,
      "metadata": {
        "collapsed": false
      },
      "outputs": [],
      "source": [
        "import os\n",
        "\n",
        "import numpy as np\n",
        "import pandas as pd\n",
        "from sklearn.model_selection import ShuffleSplit\n",
        "\n",
        "import xgboost as xgb\n",
        "\n",
        "# The Veterans' Administration Lung Cancer Trial\n",
        "# The Statistical Analysis of Failure Time Data by Kalbfleisch J. and Prentice R (1980)\n",
        "CURRENT_DIR = os.path.dirname(__file__)\n",
        "df = pd.read_csv(os.path.join(CURRENT_DIR, '../data/veterans_lung_cancer.csv'))\n",
        "print('Training data:')\n",
        "print(df)\n",
        "\n",
        "# Split features and labels\n",
        "y_lower_bound = df['Survival_label_lower_bound']\n",
        "y_upper_bound = df['Survival_label_upper_bound']\n",
        "X = df.drop(['Survival_label_lower_bound', 'Survival_label_upper_bound'], axis=1)\n",
        "\n",
        "# Split data into training and validation sets\n",
        "rs = ShuffleSplit(n_splits=2, test_size=.7, random_state=0)\n",
        "train_index, valid_index = next(rs.split(X))\n",
        "dtrain = xgb.DMatrix(X.values[train_index, :])\n",
        "dtrain.set_float_info('label_lower_bound', y_lower_bound[train_index])\n",
        "dtrain.set_float_info('label_upper_bound', y_upper_bound[train_index])\n",
        "dvalid = xgb.DMatrix(X.values[valid_index, :])\n",
        "dvalid.set_float_info('label_lower_bound', y_lower_bound[valid_index])\n",
        "dvalid.set_float_info('label_upper_bound', y_upper_bound[valid_index])\n",
        "\n",
        "# Train gradient boosted trees using AFT loss and metric\n",
        "params = {'verbosity': 0,\n",
        "          'objective': 'survival:aft',\n",
        "          'eval_metric': 'aft-nloglik',\n",
        "          'tree_method': 'hist',\n",
        "          'learning_rate': 0.05,\n",
        "          'aft_loss_distribution': 'normal',\n",
        "          'aft_loss_distribution_scale': 1.20,\n",
        "          'max_depth': 6,\n",
        "          'lambda': 0.01,\n",
        "          'alpha': 0.02}\n",
        "bst = xgb.train(params, dtrain, num_boost_round=10000,\n",
        "                evals=[(dtrain, 'train'), (dvalid, 'valid')],\n",
        "                early_stopping_rounds=50)\n",
        "\n",
        "# Run prediction on the validation set\n",
        "df = pd.DataFrame({'Label (lower bound)': y_lower_bound[valid_index],\n",
        "                   'Label (upper bound)': y_upper_bound[valid_index],\n",
        "                   'Predicted label': bst.predict(dvalid)})\n",
        "print(df)\n",
        "# Show only data points with right-censored labels\n",
        "print(df[np.isinf(df['Label (upper bound)'])])\n",
        "\n",
        "# Save trained model\n",
        "bst.save_model('aft_model.json')"
      ]
    }
  ],
  "metadata": {
    "kernelspec": {
      "display_name": "Python 3",
      "language": "python",
      "name": "python3"
    },
    "language_info": {
      "codemirror_mode": {
        "name": "ipython",
        "version": 3
      },
      "file_extension": ".py",
      "mimetype": "text/x-python",
      "name": "python",
      "nbconvert_exporter": "python",
      "pygments_lexer": "ipython3",
      "version": "3.8.17"
    }
  },
  "nbformat": 4,
  "nbformat_minor": 0
}
