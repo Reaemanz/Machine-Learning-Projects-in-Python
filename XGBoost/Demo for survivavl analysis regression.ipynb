{
  "cells": [
    {
      "cell_type": "markdown",
      "metadata": {},
      "source": [
        "\n# Demo for survival analysis (regression).\n\nDemo for survival analysis (regression). using Accelerated Failure Time (AFT) model.\n"
      ]
    },
    {
      "cell_type": "code",
      "execution_count": null,
      "metadata": {
        "collapsed": false
      },
      "outputs": [],
      "source": [
        "import os\n\nimport numpy as np\nimport pandas as pd\nfrom sklearn.model_selection import ShuffleSplit\n\nimport xgboost as xgb\n\n# The Veterans' Administration Lung Cancer Trial\n# The Statistical Analysis of Failure Time Data by Kalbfleisch J. and Prentice R (1980)\nCURRENT_DIR = os.path.dirname(__file__)\ndf = pd.read_csv(os.path.join(CURRENT_DIR, '../data/veterans_lung_cancer.csv'))\nprint('Training data:')\nprint(df)\n\n# Split features and labels\ny_lower_bound = df['Survival_label_lower_bound']\ny_upper_bound = df['Survival_label_upper_bound']\nX = df.drop(['Survival_label_lower_bound', 'Survival_label_upper_bound'], axis=1)\n\n# Split data into training and validation sets\nrs = ShuffleSplit(n_splits=2, test_size=.7, random_state=0)\ntrain_index, valid_index = next(rs.split(X))\ndtrain = xgb.DMatrix(X.values[train_index, :])\ndtrain.set_float_info('label_lower_bound', y_lower_bound[train_index])\ndtrain.set_float_info('label_upper_bound', y_upper_bound[train_index])\ndvalid = xgb.DMatrix(X.values[valid_index, :])\ndvalid.set_float_info('label_lower_bound', y_lower_bound[valid_index])\ndvalid.set_float_info('label_upper_bound', y_upper_bound[valid_index])\n\n# Train gradient boosted trees using AFT loss and metric\nparams = {'verbosity': 0,\n          'objective': 'survival:aft',\n          'eval_metric': 'aft-nloglik',\n          'tree_method': 'hist',\n          'learning_rate': 0.05,\n          'aft_loss_distribution': 'normal',\n          'aft_loss_distribution_scale': 1.20,\n          'max_depth': 6,\n          'lambda': 0.01,\n          'alpha': 0.02}\nbst = xgb.train(params, dtrain, num_boost_round=10000,\n                evals=[(dtrain, 'train'), (dvalid, 'valid')],\n                early_stopping_rounds=50)\n\n# Run prediction on the validation set\ndf = pd.DataFrame({'Label (lower bound)': y_lower_bound[valid_index],\n                   'Label (upper bound)': y_upper_bound[valid_index],\n                   'Predicted label': bst.predict(dvalid)})\nprint(df)\n# Show only data points with right-censored labels\nprint(df[np.isinf(df['Label (upper bound)'])])\n\n# Save trained model\nbst.save_model('aft_model.json')"
      ]
    }
  ],
  "metadata": {
    "kernelspec": {
      "display_name": "Python 3",
      "language": "python",
      "name": "python3"
    },
    "language_info": {
      "codemirror_mode": {
        "name": "ipython",
        "version": 3
      },
      "file_extension": ".py",
      "mimetype": "text/x-python",
      "name": "python",
      "nbconvert_exporter": "python",
      "pygments_lexer": "ipython3",
      "version": "3.8.18"
    }
  },
  "nbformat": 4,
  "nbformat_minor": 0
}