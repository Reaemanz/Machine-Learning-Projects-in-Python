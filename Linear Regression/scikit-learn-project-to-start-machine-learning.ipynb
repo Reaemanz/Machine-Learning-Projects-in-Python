{
 "cells": [
  {
   "cell_type": "markdown",
   "id": "3060999c",
   "metadata": {
    "id": "YFscZE0FAeod",
    "papermill": {
     "duration": 0.03479,
     "end_time": "2022-09-01T15:45:00.069352",
     "exception": false,
     "start_time": "2022-09-01T15:45:00.034562",
     "status": "completed"
    },
    "tags": []
   },
   "source": [
    "# **Scikit-Learn Project to Start Machine Learning and Master it Now**"
   ]
  },
  {
   "cell_type": "markdown",
   "id": "56764c29",
   "metadata": {
    "id": "aYQbhOBEASzp",
    "papermill": {
     "duration": 0.028226,
     "end_time": "2022-09-01T15:45:00.130617",
     "exception": false,
     "start_time": "2022-09-01T15:45:00.102391",
     "status": "completed"
    },
    "tags": []
   },
   "source": [
    "- [English Article](https://inside-machinelearning.com/en/scikit-learn-project-start-ml/)\n",
    "- [French Article](https://inside-machinelearning.com/scikit-learn-projet-machine-learning/)"
   ]
  },
  {
   "cell_type": "markdown",
   "id": "68a0fcda",
   "metadata": {
    "id": "u2UJWYxuAgHQ",
    "papermill": {
     "duration": 0.022285,
     "end_time": "2022-09-01T15:45:00.175615",
     "exception": false,
     "start_time": "2022-09-01T15:45:00.153330",
     "status": "completed"
    },
    "tags": []
   },
   "source": [
    "In this article, we will see how to implement your first Machine Learning models in this complete Scikit-Learn project!\n",
    "\n",
    "**Scikit-Learn is THE basic library to do Machine Learning. It allows you to manage data, use AI models and much more!**\n",
    "\n",
    "Scikit-Learn is ideal to process numerical data as well as texts. To do Machine Learning on images, we rather advise Deep Learning libraries like Keras which we have made [a tutorial right here!](https://inside-machinelearning.com/en/first-projec-keras/)\n",
    "\n",
    "**In this article we will first do Exploratory Data Analysis (EDA) to understand our dataset. It will then allow us know which models to use to do Machine Learning!**\n",
    "\n",
    "We will see different EDA techniques. Then we will see 5 Machine Learning models:\n",
    "\n",
    "- **Logistic Regression**\n",
    "- **Support Vector Machines – SVM**\n",
    "- **Stochastic Gradient Descent**\n",
    "- **Naive Bayes**\n",
    "- **Decision Tree**\n",
    "\n",
    "If you don’t know them yet, this article is for you 🎉\n",
    "\n",
    "Let’s start right now !\n",
    "\n"
   ]
  },
  {
   "cell_type": "markdown",
   "id": "0ebac9bc",
   "metadata": {
    "id": "IWrYHfVJKeXX",
    "papermill": {
     "duration": 0.02299,
     "end_time": "2022-09-01T15:45:00.221080",
     "exception": false,
     "start_time": "2022-09-01T15:45:00.198090",
     "status": "completed"
    },
    "tags": []
   },
   "source": [
    "## **Getting started**"
   ]
  },
  {
   "cell_type": "markdown",
   "id": "9c4d5c4a",
   "metadata": {
    "id": "rKRHvHmLA-l0",
    "papermill": {
     "duration": 0.022434,
     "end_time": "2022-09-01T15:45:00.273164",
     "exception": false,
     "start_time": "2022-09-01T15:45:00.250730",
     "status": "completed"
    },
    "tags": []
   },
   "source": [
    "### **Our data: Wine dataset**"
   ]
  },
  {
   "cell_type": "markdown",
   "id": "29c92540",
   "metadata": {
    "id": "expiG2uqBEPQ",
    "papermill": {
     "duration": 0.021933,
     "end_time": "2022-09-01T15:45:00.317496",
     "exception": false,
     "start_time": "2022-09-01T15:45:00.295563",
     "status": "completed"
    },
    "tags": []
   },
   "source": [
    "Doing Machine Learning requires a Python environment in which you can code. You have several options: coding directly on your computer in a .py file or using a Jupiter Notebook (requiring [Anaconda](https://www.anaconda.com) to be installed).\n",
    "\n",
    "Another much simpler solution is to use [Google Colab.](https://colab.research.google.com) This site offers you a ready to use Python Notebook. No installation is required, only a Google account and everything is free!\n",
    "\n",
    "**Now that your environment is ready, we can start the Scikit-Learn project.**\n",
    "\n",
    "To start, let’s import an essential library to do Machine Learning: Pandas.\n",
    "\n",
    "Pandas is a Python library allowing to manipulate, display and modify easily our data. We import it into our environment like this:"
   ]
  },
  {
   "cell_type": "code",
   "execution_count": 1,
   "id": "251e7c1e",
   "metadata": {
    "execution": {
     "iopub.execute_input": "2022-09-01T15:45:00.373859Z",
     "iopub.status.busy": "2022-09-01T15:45:00.373236Z",
     "iopub.status.idle": "2022-09-01T15:45:00.387998Z",
     "shell.execute_reply": "2022-09-01T15:45:00.386481Z"
    },
    "id": "zOHUzZY8lhB2",
    "papermill": {
     "duration": 0.050699,
     "end_time": "2022-09-01T15:45:00.390659",
     "exception": false,
     "start_time": "2022-09-01T15:45:00.339960",
     "status": "completed"
    },
    "tags": []
   },
   "outputs": [],
   "source": [
    "import pandas as pd"
   ]
  },
  {
   "cell_type": "markdown",
   "id": "d65f3bca",
   "metadata": {
    "id": "Id7iwgcRBRqV",
    "papermill": {
     "duration": 0.023624,
     "end_time": "2022-09-01T15:45:00.439166",
     "exception": false,
     "start_time": "2022-09-01T15:45:00.415542",
     "status": "completed"
    },
    "tags": []
   },
   "source": [
    "Now let’s take a look at our data.\n",
    "\n",
    "For this project we will use the [*winequality-white*](https://github.com/tkeldenich/First_Project_with_Scikit-Learn_MachineLearning/blob/main/winequality-white.csv) dataset.\n",
    "\n",
    "This dataset comes from [Kaggle](https://www.kaggle.com) the website hosting dozens of Machine Learning competitions every year.\n",
    "\n",
    "**The goal of this project is to predict the quality of a wine based on different measurements.**\n",
    "\n",
    "You can download the dataset [at this Github address.](https://github.com/tkeldenich/First_Project_with_Scikit-Learn_MachineLearning)\n",
    "\n",
    "Once you have the file, put it in your environment. Then you can load it into a DataFrame (a Pandas object) by calling the Pandas `read_csv()` function:"
   ]
  },
  {
   "cell_type": "code",
   "execution_count": 2,
   "id": "0d8c0881",
   "metadata": {
    "execution": {
     "iopub.execute_input": "2022-09-01T15:45:00.490187Z",
     "iopub.status.busy": "2022-09-01T15:45:00.489319Z",
     "iopub.status.idle": "2022-09-01T15:45:00.523855Z",
     "shell.execute_reply": "2022-09-01T15:45:00.522902Z"
    },
    "id": "wDo-pdGPlziv",
    "papermill": {
     "duration": 0.063178,
     "end_time": "2022-09-01T15:45:00.526534",
     "exception": false,
     "start_time": "2022-09-01T15:45:00.463356",
     "status": "completed"
    },
    "tags": []
   },
   "outputs": [],
   "source": [
    "df = pd.read_csv(\"../input/winequalitywhite/winequality-white.csv\", sep=\";\")"
   ]
  },
  {
   "cell_type": "markdown",
   "id": "3cbed418",
   "metadata": {
    "id": "mcwZhKqiBmPB",
    "papermill": {
     "duration": 0.029748,
     "end_time": "2022-09-01T15:45:00.580207",
     "exception": false,
     "start_time": "2022-09-01T15:45:00.550459",
     "status": "completed"
    },
    "tags": []
   },
   "source": [
    "As with any Machine Learning project, the first thing to do is to understand your data."
   ]
  },
  {
   "cell_type": "markdown",
   "id": "7db11ede",
   "metadata": {
    "id": "uR9d-wXqBxQ3",
    "papermill": {
     "duration": 0.027879,
     "end_time": "2022-09-01T15:45:00.640388",
     "exception": false,
     "start_time": "2022-09-01T15:45:00.612509",
     "status": "completed"
    },
    "tags": []
   },
   "source": [
    "### **Features and target**"
   ]
  },
  {
   "cell_type": "markdown",
   "id": "0cb951cd",
   "metadata": {
    "id": "XKttkwXqBxcS",
    "papermill": {
     "duration": 0.023943,
     "end_time": "2022-09-01T15:45:00.688420",
     "exception": false,
     "start_time": "2022-09-01T15:45:00.664477",
     "status": "completed"
    },
    "tags": []
   },
   "source": [
    "Our data is in CSV format (similar to Excel). It is a data file divided into rows and columns.\n",
    "\n",
    "First, let’s display the data type for each column:"
   ]
  },
  {
   "cell_type": "code",
   "execution_count": 3,
   "id": "b1e0a303",
   "metadata": {
    "execution": {
     "iopub.execute_input": "2022-09-01T15:45:00.738376Z",
     "iopub.status.busy": "2022-09-01T15:45:00.737999Z",
     "iopub.status.idle": "2022-09-01T15:45:00.751813Z",
     "shell.execute_reply": "2022-09-01T15:45:00.750816Z"
    },
    "id": "HcyglBtong2N",
    "outputId": "51977e76-b227-40ab-c58f-0a0227cd16c4",
    "papermill": {
     "duration": 0.041467,
     "end_time": "2022-09-01T15:45:00.754206",
     "exception": false,
     "start_time": "2022-09-01T15:45:00.712739",
     "status": "completed"
    },
    "tags": []
   },
   "outputs": [
    {
     "data": {
      "text/plain": [
       "fixed acidity           float64\n",
       "volatile acidity        float64\n",
       "citric acid             float64\n",
       "residual sugar          float64\n",
       "chlorides               float64\n",
       "free sulfur dioxide     float64\n",
       "total sulfur dioxide    float64\n",
       "density                 float64\n",
       "pH                      float64\n",
       "sulphates               float64\n",
       "alcohol                 float64\n",
       "quality                   int64\n",
       "dtype: object"
      ]
     },
     "execution_count": 3,
     "metadata": {},
     "output_type": "execute_result"
    }
   ],
   "source": [
    "df.dtypes"
   ]
  },
  {
   "cell_type": "markdown",
   "id": "4ab0d872",
   "metadata": {
    "id": "w7bDO3mxB6xM",
    "papermill": {
     "duration": 0.023796,
     "end_time": "2022-09-01T15:45:00.803366",
     "exception": false,
     "start_time": "2022-09-01T15:45:00.779570",
     "status": "completed"
    },
    "tags": []
   },
   "source": [
    "Our dataset is composed of several wine features.\n",
    "\n",
    "Moreover, our data are all numerical. No text is part of our dataset. This will greatly simplify this project (and that’s why we’ve chosen this dataset to start with)!\n",
    "\n",
    "**To recap: each row of our dataset represents a wine and each column contains a features of this wine. From these features, our goal is to predict the `quality` column of the wine.**\n",
    "\n",
    "Let’s now display a preview of our data.\n",
    "\n",
    "For this we use the `head()` function which displays the head of the dataset, the first rows."
   ]
  },
  {
   "cell_type": "code",
   "execution_count": 4,
   "id": "4d665f3c",
   "metadata": {
    "execution": {
     "iopub.execute_input": "2022-09-01T15:45:00.854246Z",
     "iopub.status.busy": "2022-09-01T15:45:00.853355Z",
     "iopub.status.idle": "2022-09-01T15:45:00.888489Z",
     "shell.execute_reply": "2022-09-01T15:45:00.887073Z"
    },
    "id": "IQ5-Ensol5dF",
    "outputId": "5d3a29e8-3122-4a59-c23d-1fcc802112bd",
    "papermill": {
     "duration": 0.064311,
     "end_time": "2022-09-01T15:45:00.891512",
     "exception": false,
     "start_time": "2022-09-01T15:45:00.827201",
     "status": "completed"
    },
    "tags": []
   },
   "outputs": [
    {
     "data": {
      "text/html": [
       "<div>\n",
       "<style scoped>\n",
       "    .dataframe tbody tr th:only-of-type {\n",
       "        vertical-align: middle;\n",
       "    }\n",
       "\n",
       "    .dataframe tbody tr th {\n",
       "        vertical-align: top;\n",
       "    }\n",
       "\n",
       "    .dataframe thead th {\n",
       "        text-align: right;\n",
       "    }\n",
       "</style>\n",
       "<table border=\"1\" class=\"dataframe\">\n",
       "  <thead>\n",
       "    <tr style=\"text-align: right;\">\n",
       "      <th></th>\n",
       "      <th>fixed acidity</th>\n",
       "      <th>volatile acidity</th>\n",
       "      <th>citric acid</th>\n",
       "      <th>residual sugar</th>\n",
       "      <th>chlorides</th>\n",
       "      <th>free sulfur dioxide</th>\n",
       "      <th>total sulfur dioxide</th>\n",
       "      <th>density</th>\n",
       "      <th>pH</th>\n",
       "      <th>sulphates</th>\n",
       "      <th>alcohol</th>\n",
       "      <th>quality</th>\n",
       "    </tr>\n",
       "  </thead>\n",
       "  <tbody>\n",
       "    <tr>\n",
       "      <th>0</th>\n",
       "      <td>7.0</td>\n",
       "      <td>0.27</td>\n",
       "      <td>0.36</td>\n",
       "      <td>20.7</td>\n",
       "      <td>0.045</td>\n",
       "      <td>45.0</td>\n",
       "      <td>170.0</td>\n",
       "      <td>1.0010</td>\n",
       "      <td>3.00</td>\n",
       "      <td>0.45</td>\n",
       "      <td>8.8</td>\n",
       "      <td>6</td>\n",
       "    </tr>\n",
       "    <tr>\n",
       "      <th>1</th>\n",
       "      <td>6.3</td>\n",
       "      <td>0.30</td>\n",
       "      <td>0.34</td>\n",
       "      <td>1.6</td>\n",
       "      <td>0.049</td>\n",
       "      <td>14.0</td>\n",
       "      <td>132.0</td>\n",
       "      <td>0.9940</td>\n",
       "      <td>3.30</td>\n",
       "      <td>0.49</td>\n",
       "      <td>9.5</td>\n",
       "      <td>6</td>\n",
       "    </tr>\n",
       "    <tr>\n",
       "      <th>2</th>\n",
       "      <td>8.1</td>\n",
       "      <td>0.28</td>\n",
       "      <td>0.40</td>\n",
       "      <td>6.9</td>\n",
       "      <td>0.050</td>\n",
       "      <td>30.0</td>\n",
       "      <td>97.0</td>\n",
       "      <td>0.9951</td>\n",
       "      <td>3.26</td>\n",
       "      <td>0.44</td>\n",
       "      <td>10.1</td>\n",
       "      <td>6</td>\n",
       "    </tr>\n",
       "  </tbody>\n",
       "</table>\n",
       "</div>"
      ],
      "text/plain": [
       "   fixed acidity  volatile acidity  citric acid  residual sugar  chlorides  \\\n",
       "0            7.0              0.27         0.36            20.7      0.045   \n",
       "1            6.3              0.30         0.34             1.6      0.049   \n",
       "2            8.1              0.28         0.40             6.9      0.050   \n",
       "\n",
       "   free sulfur dioxide  total sulfur dioxide  density    pH  sulphates  \\\n",
       "0                 45.0                 170.0   1.0010  3.00       0.45   \n",
       "1                 14.0                 132.0   0.9940  3.30       0.49   \n",
       "2                 30.0                  97.0   0.9951  3.26       0.44   \n",
       "\n",
       "   alcohol  quality  \n",
       "0      8.8        6  \n",
       "1      9.5        6  \n",
       "2     10.1        6  "
      ]
     },
     "execution_count": 4,
     "metadata": {},
     "output_type": "execute_result"
    }
   ],
   "source": [
    "df.head(3)"
   ]
  },
  {
   "cell_type": "markdown",
   "id": "aef1f485",
   "metadata": {
    "id": "sfBvW3jyCJJR",
    "papermill": {
     "duration": 0.03009,
     "end_time": "2022-09-01T15:45:00.958998",
     "exception": false,
     "start_time": "2022-09-01T15:45:00.928908",
     "status": "completed"
    },
    "tags": []
   },
   "source": [
    "Here we can already see the features scale.\n",
    "\n",
    "**Can this impact our Machine Learning model? I let you answer in the comments section of [the article.](https://inside-machinelearning.com/en/scikit-learn-project-start-ml/)**\n",
    "\n",
    "Now that we are familiar with our data, we can go into detail and analyze it technically."
   ]
  },
  {
   "cell_type": "markdown",
   "id": "21d88b3c",
   "metadata": {
    "id": "GfP5cB90mG99",
    "papermill": {
     "duration": 0.026445,
     "end_time": "2022-09-01T15:45:01.017866",
     "exception": false,
     "start_time": "2022-09-01T15:45:00.991421",
     "status": "completed"
    },
    "tags": []
   },
   "source": [
    "## **First Step : Exploratory Data Analysis**"
   ]
  },
  {
   "cell_type": "markdown",
   "id": "73cc97b5",
   "metadata": {
    "id": "Q-eDcqK-CT7y",
    "papermill": {
     "duration": 0.022368,
     "end_time": "2022-09-01T15:45:01.063030",
     "exception": false,
     "start_time": "2022-09-01T15:45:01.040662",
     "status": "completed"
    },
    "tags": []
   },
   "source": [
    "\n",
    "\n",
    "> **Exploratory Data Analysis** is the technical analysis phase of a dataset. It allows Data Scientists and Machine Learning Engineers to better understand their data. But above all it will help them determine the Machine Learning model they need to solve their tasks.\n",
    "\n"
   ]
  },
  {
   "cell_type": "markdown",
   "id": "2d6f5139",
   "metadata": {
    "id": "grUZFDBAnqjM",
    "papermill": {
     "duration": 0.022491,
     "end_time": "2022-09-01T15:45:01.108117",
     "exception": false,
     "start_time": "2022-09-01T15:45:01.085626",
     "status": "completed"
    },
    "tags": []
   },
   "source": [
    "### **Univariate Analysis**"
   ]
  },
  {
   "cell_type": "markdown",
   "id": "913c2979",
   "metadata": {
    "id": "hwwl0__cCZlx",
    "papermill": {
     "duration": 0.022412,
     "end_time": "2022-09-01T15:45:01.153232",
     "exception": false,
     "start_time": "2022-09-01T15:45:01.130820",
     "status": "completed"
    },
    "tags": []
   },
   "source": [
    "\n",
    "Univariate Analysis is the process of inspecting each feature separately.\n",
    "\n",
    "This will allow us to deepen our knowledge about the dataset.\n",
    "\n",
    "> We are in the comprehension phase here.\n",
    "\n",
    "**The question associated with Univariate Analysis is: What are the data that compose our dataset?**"
   ]
  },
  {
   "cell_type": "markdown",
   "id": "b64e4ba0",
   "metadata": {
    "id": "1GQnE7ken8e1",
    "papermill": {
     "duration": 0.024013,
     "end_time": "2022-09-01T15:45:01.201360",
     "exception": false,
     "start_time": "2022-09-01T15:45:01.177347",
     "status": "completed"
    },
    "tags": []
   },
   "source": [
    "#### **Target**"
   ]
  },
  {
   "cell_type": "markdown",
   "id": "f7ab13b0",
   "metadata": {
    "id": "lKWDFiFsCekq",
    "papermill": {
     "duration": 0.023464,
     "end_time": "2022-09-01T15:45:01.248813",
     "exception": false,
     "start_time": "2022-09-01T15:45:01.225349",
     "status": "completed"
    },
    "tags": []
   },
   "source": [
    "##### **Numerical or Categorical Data?**"
   ]
  },
  {
   "cell_type": "markdown",
   "id": "feb573cb",
   "metadata": {
    "id": "y8h4TvX3CYPG",
    "papermill": {
     "duration": 0.025872,
     "end_time": "2022-09-01T15:45:01.303955",
     "exception": false,
     "start_time": "2022-09-01T15:45:01.278083",
     "status": "completed"
    },
    "tags": []
   },
   "source": [
    "First of all, let’s analyze the most important data to us, the target data: `quality`.\n",
    "\n",
    "When we earlier displayed the type of the target column, we noticed that it was composed of integers.\n",
    "\n",
    "This can indicate two things:\n",
    "\n",
    "- either we have an infinite potential of integers, from 0 to infinity\n",
    "- either our space of possibility is restricted, for example from 0 to 5\n",
    "\n",
    "To get to the bottom of this, we will take our quality data and display the unique values (if we have 50 rows with a quality of 8, we will display a single 8).\n",
    "\n",
    "If we get a very large list, then we can consider that the potential is infinite but if we get a small list, it necessarily indicates that the space is limited."
   ]
  },
  {
   "cell_type": "code",
   "execution_count": 5,
   "id": "e12d10ac",
   "metadata": {
    "execution": {
     "iopub.execute_input": "2022-09-01T15:45:01.353781Z",
     "iopub.status.busy": "2022-09-01T15:45:01.353335Z",
     "iopub.status.idle": "2022-09-01T15:45:01.366372Z",
     "shell.execute_reply": "2022-09-01T15:45:01.365195Z"
    },
    "id": "E34PxFBPovMK",
    "outputId": "b45f6e38-2b58-42cb-be18-a960bba715ea",
    "papermill": {
     "duration": 0.040784,
     "end_time": "2022-09-01T15:45:01.368534",
     "exception": false,
     "start_time": "2022-09-01T15:45:01.327750",
     "status": "completed"
    },
    "tags": []
   },
   "outputs": [
    {
     "data": {
      "text/plain": [
       "array([6, 5, 7, 8, 4, 3, 9])"
      ]
     },
     "execution_count": 5,
     "metadata": {},
     "output_type": "execute_result"
    }
   ],
   "source": [
    "df['quality'].unique()"
   ]
  },
  {
   "cell_type": "markdown",
   "id": "958614d2",
   "metadata": {
    "id": "xOAx8Snnn_j4",
    "papermill": {
     "duration": 0.023444,
     "end_time": "2022-09-01T15:45:01.415230",
     "exception": false,
     "start_time": "2022-09-01T15:45:01.391786",
     "status": "completed"
    },
    "tags": []
   },
   "source": [
    "We have a list of seven numbers between 3 and 9. Hence our space is limited.\n",
    "\n",
    "**This is an important information for Machine Learning. Since we have a restricted potential, we will use a classification Machine Learning model. Otherwise we would have used a regression model.**\n",
    "\n",
    "This limited potential indicates that we can analyze these data as categorical variables\n",
    "\n",
    "> **Categorical Data** are data that can be grouped into specific subparts (categories).\n",
    "\n",
    "Here, we can, for example, talk about wines with a quality of 3. This is a category in our dataset.\n",
    "\n",
    "We could not have done the same with the `chlorides` column which is composed of float."
   ]
  },
  {
   "cell_type": "markdown",
   "id": "1de83342",
   "metadata": {
    "id": "c9XRuzwHC1Ry",
    "papermill": {
     "duration": 0.024109,
     "end_time": "2022-09-01T15:45:01.463912",
     "exception": false,
     "start_time": "2022-09-01T15:45:01.439803",
     "status": "completed"
    },
    "tags": []
   },
   "source": [
    "##### **Distribution**"
   ]
  },
  {
   "cell_type": "markdown",
   "id": "03900e1f",
   "metadata": {
    "id": "ZL4T-N-eC3m7",
    "papermill": {
     "duration": 0.025059,
     "end_time": "2022-09-01T15:45:01.513841",
     "exception": false,
     "start_time": "2022-09-01T15:45:01.488782",
     "status": "completed"
    },
    "tags": []
   },
   "source": [
    "**Let’s move on to the visual analysis!**\n",
    "\n",
    "First, we import the two main libraries for drawing graphs:\n",
    "\n",
    "- matplotlib\n",
    "- seaborn"
   ]
  },
  {
   "cell_type": "code",
   "execution_count": 6,
   "id": "43f73125",
   "metadata": {
    "execution": {
     "iopub.execute_input": "2022-09-01T15:45:01.567303Z",
     "iopub.status.busy": "2022-09-01T15:45:01.566897Z",
     "iopub.status.idle": "2022-09-01T15:45:02.715019Z",
     "shell.execute_reply": "2022-09-01T15:45:02.714075Z"
    },
    "id": "zho5hCdCpQqG",
    "papermill": {
     "duration": 1.178939,
     "end_time": "2022-09-01T15:45:02.717748",
     "exception": false,
     "start_time": "2022-09-01T15:45:01.538809",
     "status": "completed"
    },
    "tags": []
   },
   "outputs": [],
   "source": [
    "import seaborn as sns\n",
    "import matplotlib.pyplot as plt"
   ]
  },
  {
   "cell_type": "markdown",
   "id": "7793a1dd",
   "metadata": {
    "id": "Uw--EX8_C-9_",
    "papermill": {
     "duration": 0.023794,
     "end_time": "2022-09-01T15:45:02.766393",
     "exception": false,
     "start_time": "2022-09-01T15:45:02.742599",
     "status": "completed"
    },
    "tags": []
   },
   "source": [
    "Then, we can display the occurrence of each category of wine quality. How many times the category 3, 4, 5, etc appears in our dataset.\n",
    "\n",
    "In fact, we will make two graphs:\n",
    "\n",
    "- **normalized graph**, which will allow us to know the distribution as a percentage\n",
    "- **classic graph**, which will allow us to know the raw distribution"
   ]
  },
  {
   "cell_type": "code",
   "execution_count": 7,
   "id": "87a4dc4f",
   "metadata": {
    "execution": {
     "iopub.execute_input": "2022-09-01T15:45:02.814787Z",
     "iopub.status.busy": "2022-09-01T15:45:02.813979Z",
     "iopub.status.idle": "2022-09-01T15:45:03.269474Z",
     "shell.execute_reply": "2022-09-01T15:45:03.268240Z"
    },
    "id": "Gk1UKCm9n7_z",
    "outputId": "a8b41236-a232-4fac-c6f5-c8cd8ab324cc",
    "papermill": {
     "duration": 0.482818,
     "end_time": "2022-09-01T15:45:03.272343",
     "exception": false,
     "start_time": "2022-09-01T15:45:02.789525",
     "status": "completed"
    },
    "tags": []
   },
   "outputs": [
    {
     "data": {
      "image/png": "[encoded data removed]",
      "text/plain": [
       "<Figure size 1008x360 with 2 Axes>"
      ]
     },
     "metadata": {
      "needs_background": "light"
     },
     "output_type": "display_data"
    }
   ],
   "source": [
    "plt.figure(figsize=(14,5))\n",
    "plt.subplot(1,2,1)\n",
    "df['quality'].value_counts(normalize=True).plot.bar(rot=0, color='#066b8b')\n",
    "plt.ylabel('quality')\n",
    "plt.xlabel('% distribution per category')\n",
    "plt.subplot(1,2,2)\n",
    "sns.countplot(data=df,y='quality')\n",
    "plt.tight_layout()\n",
    "plt.show()   "
   ]
  },
  {
   "cell_type": "markdown",
   "id": "22423b45",
   "metadata": {
    "id": "_pq9-9DGDLlh",
    "papermill": {
     "duration": 0.022986,
     "end_time": "2022-09-01T15:45:03.320775",
     "exception": false,
     "start_time": "2022-09-01T15:45:03.297789",
     "status": "completed"
    },
    "tags": []
   },
   "source": [
    "On both graphs we see the same distribution which is normal.\n",
    "\n",
    "First of all, we notice that quality 6 wines are the most represented in our dataset. On the left, we can see that they represent more than 40% of our dataset (we’re approaching 50%) and on the right that it represents about 2500 lines (so 2500 wines).\n",
    "\n",
    "More generally, we can notice one thing against us: **the dataset is not equally distributed.**\n",
    "\n",
    "This inequality can influence the performance of our Machine Learning model. Indeed, there are so few wines of quality 9 that the model will not be able to analyze the characteristics that differentiate it from the others\n",
    "\n",
    "But on the other hand, the disparity in the distribution of a dataset is something normal that happens frequently in real world projects. It is a drawback that the Data Scientists / Machine Learning Engineers must be able to deal with."
   ]
  },
  {
   "cell_type": "markdown",
   "id": "b10ea051",
   "metadata": {
    "id": "YrIeXR_npAyO",
    "papermill": {
     "duration": 0.024184,
     "end_time": "2022-09-01T15:45:03.369260",
     "exception": false,
     "start_time": "2022-09-01T15:45:03.345076",
     "status": "completed"
    },
    "tags": []
   },
   "source": [
    "#### **Features - Numerical Data**"
   ]
  },
  {
   "cell_type": "markdown",
   "id": "1ef5e1d9",
   "metadata": {
    "id": "yneI0DT8DcHJ",
    "papermill": {
     "duration": 0.024164,
     "end_time": "2022-09-01T15:45:03.419129",
     "exception": false,
     "start_time": "2022-09-01T15:45:03.394965",
     "status": "completed"
    },
    "tags": []
   },
   "source": [
    "##### **Distribution and Box plot**"
   ]
  },
  {
   "cell_type": "markdown",
   "id": "85d9cec4",
   "metadata": {
    "id": "Nqn1UGjEDXg2",
    "papermill": {
     "duration": 0.024439,
     "end_time": "2022-09-01T15:45:03.468233",
     "exception": false,
     "start_time": "2022-09-01T15:45:03.443794",
     "status": "completed"
    },
    "tags": []
   },
   "source": [
    "\n",
    "Let’s now analyze the wines features. These are the data that will allow the Machine Learning model to detect the quality of the wines.\n",
    "\n",
    "First, we can create a sub DataFrame containing only our features:"
   ]
  },
  {
   "cell_type": "code",
   "execution_count": 8,
   "id": "78f89b6a",
   "metadata": {
    "execution": {
     "iopub.execute_input": "2022-09-01T15:45:03.520797Z",
     "iopub.status.busy": "2022-09-01T15:45:03.520027Z",
     "iopub.status.idle": "2022-09-01T15:45:03.525577Z",
     "shell.execute_reply": "2022-09-01T15:45:03.524817Z"
    },
    "id": "ncD0CjBTssXy",
    "papermill": {
     "duration": 0.034972,
     "end_time": "2022-09-01T15:45:03.528016",
     "exception": false,
     "start_time": "2022-09-01T15:45:03.493044",
     "status": "completed"
    },
    "tags": []
   },
   "outputs": [],
   "source": [
    "df_features = df.drop(columns='quality')"
   ]
  },
  {
   "cell_type": "markdown",
   "id": "65c09841",
   "metadata": {
    "id": "mDV1TIn5DkYk",
    "papermill": {
     "duration": 0.023872,
     "end_time": "2022-09-01T15:45:03.576729",
     "exception": false,
     "start_time": "2022-09-01T15:45:03.552857",
     "status": "completed"
    },
    "tags": []
   },
   "source": [
    "Now let’s analyze the `alcohol` column which represents the alcohol degree of the wine.\n",
    "\n",
    "We display here the distribution on a classical graph and on a box plot:"
   ]
  },
  {
   "cell_type": "code",
   "execution_count": 9,
   "id": "4a8074ce",
   "metadata": {
    "execution": {
     "iopub.execute_input": "2022-09-01T15:45:03.625851Z",
     "iopub.status.busy": "2022-09-01T15:45:03.625423Z",
     "iopub.status.idle": "2022-09-01T15:45:04.072172Z",
     "shell.execute_reply": "2022-09-01T15:45:04.070966Z"
    },
    "id": "-OpFyUWcl6Wl",
    "outputId": "455aba47-44dd-478a-d61f-46e756c1759e",
    "papermill": {
     "duration": 0.474016,
     "end_time": "2022-09-01T15:45:04.074581",
     "exception": false,
     "start_time": "2022-09-01T15:45:03.600565",
     "status": "completed"
    },
    "tags": []
   },
   "outputs": [
    {
     "data": {
      "image/png": "[encoded data removed]",
      "text/plain": [
       "<Figure size 1008x360 with 2 Axes>"
      ]
     },
     "metadata": {
      "needs_background": "light"
     },
     "output_type": "display_data"
    }
   ],
   "source": [
    "plt.figure(figsize=(14,5))\n",
    "plt.subplot(1,2,1)\n",
    "ax = sns.kdeplot(df_features['alcohol'],shade=True,color='#d1aa00')\n",
    "plt.ylabel('alcohol')\n",
    "plt.xlabel('% distribution per category')\n",
    "plt.subplot(1,2,2)\n",
    "df_features['alcohol'].plot.box()\n",
    "plt.tight_layout()\n",
    "plt.show()"
   ]
  },
  {
   "cell_type": "markdown",
   "id": "8245369e",
   "metadata": {
    "id": "Yfyu4azBDoGU",
    "papermill": {
     "duration": 0.023782,
     "end_time": "2022-09-01T15:45:04.122943",
     "exception": false,
     "start_time": "2022-09-01T15:45:04.099161",
     "status": "completed"
    },
    "tags": []
   },
   "source": [
    "We want to find out if there is any abnormality on our graph:\n",
    "\n",
    "- unusual distribution\n",
    "- missing data\n",
    "- individual particularly far from the average\n",
    "\n",
    "The graph looks quite normal, unlike the data analyzed in [our forest wildfire project.](https://inside-machinelearning.com/en/data-science-and-environment/)"
   ]
  },
  {
   "cell_type": "markdown",
   "id": "d765dfa1",
   "metadata": {
    "id": "18WktPI2D09p",
    "papermill": {
     "duration": 0.023457,
     "end_time": "2022-09-01T15:45:04.170075",
     "exception": false,
     "start_time": "2022-09-01T15:45:04.146618",
     "status": "completed"
    },
    "tags": []
   },
   "source": [
    "##### **Grouped analysis**"
   ]
  },
  {
   "cell_type": "markdown",
   "id": "ddacbae4",
   "metadata": {
    "id": "OWHkJEg1D1AI",
    "papermill": {
     "duration": 0.023534,
     "end_time": "2022-09-01T15:45:04.217421",
     "exception": false,
     "start_time": "2022-09-01T15:45:04.193887",
     "status": "completed"
    },
    "tags": []
   },
   "source": [
    "Here, I propose to display the same graphs as before but for all our columns.\n",
    "\n",
    "**To simplify things, we will create a Python loop.**\n",
    "\n",
    "To do this we get the name of our characteristic columns:"
   ]
  },
  {
   "cell_type": "code",
   "execution_count": 10,
   "id": "6fb93c56",
   "metadata": {
    "execution": {
     "iopub.execute_input": "2022-09-01T15:45:04.268773Z",
     "iopub.status.busy": "2022-09-01T15:45:04.267611Z",
     "iopub.status.idle": "2022-09-01T15:45:04.275444Z",
     "shell.execute_reply": "2022-09-01T15:45:04.274362Z"
    },
    "id": "9qCKmQ2Vs-D0",
    "outputId": "4e899d02-062c-4e88-bbcf-f63b931899c4",
    "papermill": {
     "duration": 0.03601,
     "end_time": "2022-09-01T15:45:04.277716",
     "exception": false,
     "start_time": "2022-09-01T15:45:04.241706",
     "status": "completed"
    },
    "tags": []
   },
   "outputs": [
    {
     "data": {
      "text/plain": [
       "['fixed acidity',\n",
       " 'volatile acidity',\n",
       " 'citric acid',\n",
       " 'residual sugar',\n",
       " 'chlorides',\n",
       " 'free sulfur dioxide',\n",
       " 'total sulfur dioxide',\n",
       " 'density',\n",
       " 'pH',\n",
       " 'sulphates',\n",
       " 'alcohol']"
      ]
     },
     "execution_count": 10,
     "metadata": {},
     "output_type": "execute_result"
    }
   ],
   "source": [
    "num_columns = df_features.columns.tolist()\n",
    "num_columns"
   ]
  },
  {
   "cell_type": "markdown",
   "id": "ac9ecdf3",
   "metadata": {
    "id": "QA6urjg7D8Re",
    "papermill": {
     "duration": 0.024328,
     "end_time": "2022-09-01T15:45:04.326756",
     "exception": false,
     "start_time": "2022-09-01T15:45:04.302428",
     "status": "completed"
    },
    "tags": []
   },
   "source": [
    "Then we go through each of these columns to display our graphs (classical distribution and box plot):"
   ]
  },
  {
   "cell_type": "code",
   "execution_count": 11,
   "id": "15e32964",
   "metadata": {
    "execution": {
     "iopub.execute_input": "2022-09-01T15:45:04.375865Z",
     "iopub.status.busy": "2022-09-01T15:45:04.375475Z",
     "iopub.status.idle": "2022-09-01T15:45:07.863621Z",
     "shell.execute_reply": "2022-09-01T15:45:07.862530Z"
    },
    "id": "T8kwxm_0rfJs",
    "outputId": "3826d191-720f-4173-9dbf-93f172a5aef4",
    "papermill": {
     "duration": 3.517757,
     "end_time": "2022-09-01T15:45:07.868362",
     "exception": false,
     "start_time": "2022-09-01T15:45:04.350605",
     "status": "completed"
    },
    "tags": []
   },
   "outputs": [
    {
     "data": {
      "image/png": "[encoded data removed]",
      "text/plain": [
       "<Figure size 1296x2880 with 22 Axes>"
      ]
     },
     "metadata": {
      "needs_background": "light"
     },
     "output_type": "display_data"
    }
   ],
   "source": [
    "plt.figure(figsize=(18,40))\n",
    "for i,col in enumerate(num_columns,1):\n",
    "    plt.subplot(8,4,i)\n",
    "    sns.kdeplot(df[col],color='#d1aa00',shade=True)\n",
    "    plt.subplot(8,4,i+11)\n",
    "    df[col].plot.box()\n",
    "plt.tight_layout() \n",
    "plt.show()"
   ]
  },
  {
   "cell_type": "markdown",
   "id": "5871f5a2",
   "metadata": {
    "id": "iKrvdN7gEC5b",
    "papermill": {
     "duration": 0.028213,
     "end_time": "2022-09-01T15:45:07.925313",
     "exception": false,
     "start_time": "2022-09-01T15:45:07.897100",
     "status": "completed"
    },
    "tags": []
   },
   "source": [
    "**Do you find any outliers? unusual?**\n",
    "\n",
    "Let’s take a shortcut to get the answer.\n",
    "\n",
    "For this we use [Skewness and Kurtosis](https://inside-machinelearning.com/en/skewness-and-kurtosis/) two measures that allow to evaluate the distribution of data. We talk about them in more detail [in this article dedicated to the subject.](https://inside-machinelearning.com/en/skewness-and-kurtosis/)\n",
    "\n",
    "Let’s display these two measures for each of our features columns:"
   ]
  },
  {
   "cell_type": "code",
   "execution_count": 12,
   "id": "9b24c2e7",
   "metadata": {
    "execution": {
     "iopub.execute_input": "2022-09-01T15:45:07.984249Z",
     "iopub.status.busy": "2022-09-01T15:45:07.983037Z",
     "iopub.status.idle": "2022-09-01T15:45:08.005269Z",
     "shell.execute_reply": "2022-09-01T15:45:08.004067Z"
    },
    "id": "QGP8VKN9tenL",
    "outputId": "49af640a-6178-4ae2-dabb-ce580daeb76e",
    "papermill": {
     "duration": 0.054427,
     "end_time": "2022-09-01T15:45:08.007826",
     "exception": false,
     "start_time": "2022-09-01T15:45:07.953399",
     "status": "completed"
    },
    "tags": []
   },
   "outputs": [
    {
     "data": {
      "text/html": [
       "<div>\n",
       "<style scoped>\n",
       "    .dataframe tbody tr th:only-of-type {\n",
       "        vertical-align: middle;\n",
       "    }\n",
       "\n",
       "    .dataframe tbody tr th {\n",
       "        vertical-align: top;\n",
       "    }\n",
       "\n",
       "    .dataframe thead th {\n",
       "        text-align: right;\n",
       "    }\n",
       "</style>\n",
       "<table border=\"1\" class=\"dataframe\">\n",
       "  <thead>\n",
       "    <tr style=\"text-align: right;\">\n",
       "      <th></th>\n",
       "      <th>fixed acidity</th>\n",
       "      <th>volatile acidity</th>\n",
       "      <th>citric acid</th>\n",
       "      <th>residual sugar</th>\n",
       "      <th>chlorides</th>\n",
       "      <th>free sulfur dioxide</th>\n",
       "      <th>total sulfur dioxide</th>\n",
       "      <th>density</th>\n",
       "      <th>pH</th>\n",
       "      <th>sulphates</th>\n",
       "      <th>alcohol</th>\n",
       "    </tr>\n",
       "  </thead>\n",
       "  <tbody>\n",
       "    <tr>\n",
       "      <th>skewness</th>\n",
       "      <td>0.647751</td>\n",
       "      <td>1.576980</td>\n",
       "      <td>1.281920</td>\n",
       "      <td>1.077094</td>\n",
       "      <td>5.023331</td>\n",
       "      <td>1.406745</td>\n",
       "      <td>0.390710</td>\n",
       "      <td>0.977773</td>\n",
       "      <td>0.457783</td>\n",
       "      <td>0.977194</td>\n",
       "      <td>0.487342</td>\n",
       "    </tr>\n",
       "    <tr>\n",
       "      <th>kurtosis</th>\n",
       "      <td>2.172178</td>\n",
       "      <td>5.091626</td>\n",
       "      <td>6.174901</td>\n",
       "      <td>3.469820</td>\n",
       "      <td>37.564600</td>\n",
       "      <td>11.466342</td>\n",
       "      <td>0.571853</td>\n",
       "      <td>9.793807</td>\n",
       "      <td>0.530775</td>\n",
       "      <td>1.590930</td>\n",
       "      <td>-0.698425</td>\n",
       "    </tr>\n",
       "  </tbody>\n",
       "</table>\n",
       "</div>"
      ],
      "text/plain": [
       "          fixed acidity  volatile acidity  citric acid  residual sugar  \\\n",
       "skewness       0.647751          1.576980     1.281920        1.077094   \n",
       "kurtosis       2.172178          5.091626     6.174901        3.469820   \n",
       "\n",
       "          chlorides  free sulfur dioxide  total sulfur dioxide   density  \\\n",
       "skewness   5.023331             1.406745              0.390710  0.977773   \n",
       "kurtosis  37.564600            11.466342              0.571853  9.793807   \n",
       "\n",
       "                pH  sulphates   alcohol  \n",
       "skewness  0.457783   0.977194  0.487342  \n",
       "kurtosis  0.530775   1.590930 -0.698425  "
      ]
     },
     "execution_count": 12,
     "metadata": {},
     "output_type": "execute_result"
    }
   ],
   "source": [
    "pd.DataFrame(data=[df[num_columns].skew(),df[num_columns].kurtosis()],index=['skewness','kurtosis'])"
   ]
  },
  {
   "cell_type": "markdown",
   "id": "6c7a5ac8",
   "metadata": {
    "id": "VJ6iqR2lENEF",
    "papermill": {
     "duration": 0.028177,
     "end_time": "2022-09-01T15:45:08.065132",
     "exception": false,
     "start_time": "2022-09-01T15:45:08.036955",
     "status": "completed"
    },
    "tags": []
   },
   "source": [
    "We notice an unusual disparity in the `chlorides` with a kurtosis of 37 and a skewness of 5, in the `free sulfur dioxide` with a kurtosis of 11. The most balanced data are `pH` and `alcohol`.\n",
    "\n",
    "It is determined that there are outliers, data with values very far from the average, for the columns `chlorides`, `free sulfur dioxide`, `density`, `citric acid` and `volatile acidity`.\n",
    "\n",
    "In most distributions, it is normal to have extreme values.\n",
    "\n",
    "**But outliers are not frequent, even abnormal. It may be an error in the dataset.**\n",
    "\n",
    "So, error or unusual data? I let you determine for yourself and give your answer in comments 🔥"
   ]
  },
  {
   "cell_type": "markdown",
   "id": "a3d10141",
   "metadata": {
    "id": "ivlcSJ5VuO2T",
    "papermill": {
     "duration": 0.028011,
     "end_time": "2022-09-01T15:45:08.121725",
     "exception": false,
     "start_time": "2022-09-01T15:45:08.093714",
     "status": "completed"
    },
    "tags": []
   },
   "source": [
    "### **Bivariate Analysis**"
   ]
  },
  {
   "cell_type": "markdown",
   "id": "c870891d",
   "metadata": {
    "id": "uTU_gpKYEeP-",
    "papermill": {
     "duration": 0.028098,
     "end_time": "2022-09-01T15:45:08.178540",
     "exception": false,
     "start_time": "2022-09-01T15:45:08.150442",
     "status": "completed"
    },
    "tags": []
   },
   "source": [
    "We have now understood the distribution of our data thanks to the Univariate Analysis. The idea now is to continue this analysis by identifying the possible links between our features and our target, the quality of the wines.\n",
    "\n",
    "**Bivariate Analysis is the fact of inspecting each of the features by putting them in relation with our target.**\n",
    "\n",
    "This will allow us to make hypotheses about the dataset.\n",
    "\n",
    "> We are in the theorization phase here.\n",
    "\n",
    "**The question associated with Bivariate Analysis is: Is there a link between our features and the target?**\n",
    "\n",
    "For example, there could be a link such as: the higher the density of the wine, the lower the quality.\n",
    "\n",
    "If the link is that obvious, we can directly predict the quality of the wine just by looking at its density.\n",
    "\n",
    "But if the links are more intricate and less certain, a complex Machine Learning model will be needed to achieve our goal."
   ]
  },
  {
   "cell_type": "markdown",
   "id": "7a944f8b",
   "metadata": {
    "id": "pdIBotgS38L-",
    "papermill": {
     "duration": 0.028267,
     "end_time": "2022-09-01T15:45:08.235492",
     "exception": false,
     "start_time": "2022-09-01T15:45:08.207225",
     "status": "completed"
    },
    "tags": []
   },
   "source": [
    "#### **Numerical Data**"
   ]
  },
  {
   "cell_type": "markdown",
   "id": "b6f174c0",
   "metadata": {
    "id": "pQz4p2PlErN7",
    "papermill": {
     "duration": 0.029545,
     "end_time": "2022-09-01T15:45:08.294153",
     "exception": false,
     "start_time": "2022-09-01T15:45:08.264608",
     "status": "completed"
    },
    "tags": []
   },
   "source": [
    "##### **Violin plot**"
   ]
  },
  {
   "cell_type": "markdown",
   "id": "89b40e90",
   "metadata": {
    "id": "9ZcN1cV9uexM",
    "papermill": {
     "duration": 0.028125,
     "end_time": "2022-09-01T15:45:08.351429",
     "exception": false,
     "start_time": "2022-09-01T15:45:08.323304",
     "status": "completed"
    },
    "tags": []
   },
   "source": [
    "We have seen that our feature data is numerical data and our target data is categorical data.\n",
    "\n",
    "This makes it easier for us to conduct our analysis.\n",
    "\n",
    "We start with the sulphate analysis. Is there a relationship between the amount of `sulfates` and the quality of the wine?"
   ]
  },
  {
   "cell_type": "code",
   "execution_count": 13,
   "id": "59e6df42",
   "metadata": {
    "execution": {
     "iopub.execute_input": "2022-09-01T15:45:08.410180Z",
     "iopub.status.busy": "2022-09-01T15:45:08.409802Z",
     "iopub.status.idle": "2022-09-01T15:45:08.798801Z",
     "shell.execute_reply": "2022-09-01T15:45:08.797413Z"
    },
    "id": "3RomXhPIwY1V",
    "outputId": "491a91de-71a3-4359-c7b9-928b2dc383d1",
    "papermill": {
     "duration": 0.421445,
     "end_time": "2022-09-01T15:45:08.801475",
     "exception": false,
     "start_time": "2022-09-01T15:45:08.380030",
     "status": "completed"
    },
    "tags": []
   },
   "outputs": [
    {
     "data": {
      "text/plain": [
       "<AxesSubplot:xlabel='quality', ylabel='sulphates'>"
      ]
     },
     "execution_count": 13,
     "metadata": {},
     "output_type": "execute_result"
    },
    {
     "data": {
      "image/png": "[encoded data removed]",
      "text/plain": [
       "<Figure size 1152x432 with 1 Axes>"
      ]
     },
     "metadata": {
      "needs_background": "light"
     },
     "output_type": "display_data"
    }
   ],
   "source": [
    "plt.figure(figsize=(16,6))\n",
    "sns.violinplot(data=df, x='quality', y='sulphates')"
   ]
  },
  {
   "cell_type": "markdown",
   "id": "79fb285a",
   "metadata": {
    "id": "5PHZvIfUEzh0",
    "papermill": {
     "duration": 0.030454,
     "end_time": "2022-09-01T15:45:08.863213",
     "exception": false,
     "start_time": "2022-09-01T15:45:08.832759",
     "status": "completed"
    },
    "tags": []
   },
   "source": [
    "**The distribution seems to be the same for each quality of wine. Here, we want to find a pattern that would help us predict the quality of the wine.**\n",
    "\n",
    "For example, it would have been interesting if we could see that the average sulfate level increases with the quality of the wine. Here, on the contrary, we see that the average remains the same for all categories. There are some extreme data for qualities 6, 7 and 8. But nothing notable or really useful to indicate a trend."
   ]
  },
  {
   "cell_type": "markdown",
   "id": "11d41356",
   "metadata": {
    "id": "VIxUxq3sE3kM",
    "papermill": {
     "duration": 0.030325,
     "end_time": "2022-09-01T15:45:08.924333",
     "exception": false,
     "start_time": "2022-09-01T15:45:08.894008",
     "status": "completed"
    },
    "tags": []
   },
   "source": [
    "##### **Swarm plot**"
   ]
  },
  {
   "cell_type": "markdown",
   "id": "b30133df",
   "metadata": {
    "id": "236zPoZdE7Ex",
    "papermill": {
     "duration": 0.030063,
     "end_time": "2022-09-01T15:45:08.984873",
     "exception": false,
     "start_time": "2022-09-01T15:45:08.954810",
     "status": "completed"
    },
    "tags": []
   },
   "source": [
    "Let’s now display the `total sulfur dioxide` in a swarm plot and as a function of the wine quality:"
   ]
  },
  {
   "cell_type": "code",
   "execution_count": 14,
   "id": "9ec3a42d",
   "metadata": {
    "execution": {
     "iopub.execute_input": "2022-09-01T15:45:09.048129Z",
     "iopub.status.busy": "2022-09-01T15:45:09.047168Z",
     "iopub.status.idle": "2022-09-01T15:45:22.794694Z",
     "shell.execute_reply": "2022-09-01T15:45:22.793568Z"
    },
    "id": "KoHRPvaF4LdY",
    "outputId": "a7de8171-3645-4872-a0bb-03954d800a72",
    "papermill": {
     "duration": 13.78239,
     "end_time": "2022-09-01T15:45:22.798491",
     "exception": false,
     "start_time": "2022-09-01T15:45:09.016101",
     "status": "completed"
    },
    "tags": []
   },
   "outputs": [
    {
     "name": "stderr",
     "output_type": "stream",
     "text": [
      "/opt/conda/lib/python3.7/site-packages/seaborn/categorical.py:1296: UserWarning: 63.5% of the points cannot be placed; you may want to decrease the size of the markers or use stripplot.\n",
      "  warnings.warn(msg, UserWarning)\n",
      "/opt/conda/lib/python3.7/site-packages/seaborn/categorical.py:1296: UserWarning: 75.3% of the points cannot be placed; you may want to decrease the size of the markers or use stripplot.\n",
      "  warnings.warn(msg, UserWarning)\n",
      "/opt/conda/lib/python3.7/site-packages/seaborn/categorical.py:1296: UserWarning: 58.2% of the points cannot be placed; you may want to decrease the size of the markers or use stripplot.\n",
      "  warnings.warn(msg, UserWarning)\n"
     ]
    },
    {
     "data": {
      "text/plain": [
       "<AxesSubplot:xlabel='quality', ylabel='total sulfur dioxide'>"
      ]
     },
     "execution_count": 14,
     "metadata": {},
     "output_type": "execute_result"
    },
    {
     "data": {
      "image/png": "[encoded data removed]",
      "text/plain": [
       "<Figure size 1152x432 with 1 Axes>"
      ]
     },
     "metadata": {
      "needs_background": "light"
     },
     "output_type": "display_data"
    }
   ],
   "source": [
    "plt.figure(figsize=(16,6))\n",
    "sns.swarmplot(x=\"quality\", y=\"total sulfur dioxide\", data=df)"
   ]
  },
  {
   "cell_type": "markdown",
   "id": "0202f3f6",
   "metadata": {
    "id": "Oh2TY7_6FAlP",
    "papermill": {
     "duration": 0.032724,
     "end_time": "2022-09-01T15:45:22.864584",
     "exception": false,
     "start_time": "2022-09-01T15:45:22.831860",
     "status": "completed"
    },
    "tags": []
   },
   "source": [
    "Here two things to notice.\n",
    "\n",
    "First we see that there are many more points on data 5, 6 and 7.\n",
    "\n",
    "**This is not a trend. On the contrary, this is a bias in our dataset.**\n",
    "\n",
    "Remember that, above, we saw that there were more data for wine qualities 5, 6 and 7 and much less for data 3 and 9? This is what we see here and this is where the Univariate Analysis shows its importance because it allows us to identify the biases at the beginning of the project.\n",
    "\n",
    "Indeed one could have thought that this abnormal distribution is specific to the feature `total sulfur dioxide`. In fact this distribution is an integral part of our dataset, and the bias we saw in the global analysis is reflected here in the more detailed analysis.\n",
    "\n",
    "Secondly, we can notice a trend: as the quality of the wine increases, there is less `total sulfur dioxide`.\n",
    "\n",
    "**The trend is weak but it exists.**\n",
    "\n",
    "However, two things should be noted:\n",
    "\n",
    "- it seems to break at wine quality 4\n",
    "- the data for 3 and 9 are very sparse. What if the dataset were completed with more 3 and 9 wine varieties? Would we see the trend reversed?\n",
    "\n",
    "**These questions will remain unanswered because the dataset is as is. Again, this is a recurring phenomenon in real-world datasets and it is important to know how to work around it(*but also to know when to ask the customer for more data*).**"
   ]
  },
  {
   "cell_type": "markdown",
   "id": "442310c5",
   "metadata": {
    "id": "nItETfPcFc6g",
    "papermill": {
     "duration": 0.032546,
     "end_time": "2022-09-01T15:45:22.930136",
     "exception": false,
     "start_time": "2022-09-01T15:45:22.897590",
     "status": "completed"
    },
    "tags": []
   },
   "source": [
    "##### **Working around the biases**"
   ]
  },
  {
   "cell_type": "markdown",
   "id": "1a8accf3",
   "metadata": {
    "id": "mM_tiUV9Fc8z",
    "papermill": {
     "duration": 0.032823,
     "end_time": "2022-09-01T15:45:22.995896",
     "exception": false,
     "start_time": "2022-09-01T15:45:22.963073",
     "status": "completed"
    },
    "tags": []
   },
   "source": [
    "Here I propose a technique among others to evaluate this feature despite the lack of data.\n",
    "\n",
    "First, we will assume that the dataset has a distribution representative of the real world. That is to say that we suppose that if we added thousands of wines to our dataset, the average of `total sulfur dioxide` that we would obtain would be the same as we have now.\n",
    "\n",
    "**Hence, now we can analyze our current average and consider that the result obtained will be representative of the real world.**\n",
    "\n",
    "We calculate the average of `total sulfur dioxide` for each quality of wine:"
   ]
  },
  {
   "cell_type": "code",
   "execution_count": 15,
   "id": "4605ad09",
   "metadata": {
    "execution": {
     "iopub.execute_input": "2022-09-01T15:45:23.063937Z",
     "iopub.status.busy": "2022-09-01T15:45:23.063498Z",
     "iopub.status.idle": "2022-09-01T15:45:23.074057Z",
     "shell.execute_reply": "2022-09-01T15:45:23.073036Z"
    },
    "id": "ZMq6oZa_5CEy",
    "papermill": {
     "duration": 0.047491,
     "end_time": "2022-09-01T15:45:23.076479",
     "exception": false,
     "start_time": "2022-09-01T15:45:23.028988",
     "status": "completed"
    },
    "tags": []
   },
   "outputs": [],
   "source": [
    "quality_cat = df.quality.unique()\n",
    "quality_cat.sort()\n",
    "qual_TSD = []\n",
    "for i,quality in enumerate(quality_cat):\n",
    "  qual_TSD.append([quality, df['total sulfur dioxide'].loc[df['quality'] == quality].mean()])"
   ]
  },
  {
   "cell_type": "markdown",
   "id": "8271120b",
   "metadata": {
    "id": "pjf3rg4aFaNc",
    "papermill": {
     "duration": 0.033538,
     "end_time": "2022-09-01T15:45:23.144118",
     "exception": false,
     "start_time": "2022-09-01T15:45:23.110580",
     "status": "completed"
    },
    "tags": []
   },
   "source": [
    "We obtain 7 lines, with for each of them the mean of `total sulfur dioxide` corresponding to each quality level.\n",
    "\n",
    "Let’s put these data in a new DataFrame:"
   ]
  },
  {
   "cell_type": "code",
   "execution_count": 16,
   "id": "dfa1caa3",
   "metadata": {
    "execution": {
     "iopub.execute_input": "2022-09-01T15:45:23.213689Z",
     "iopub.status.busy": "2022-09-01T15:45:23.212861Z",
     "iopub.status.idle": "2022-09-01T15:45:23.218991Z",
     "shell.execute_reply": "2022-09-01T15:45:23.218139Z"
    },
    "id": "GKHFyzrT7e3C",
    "papermill": {
     "duration": 0.043573,
     "end_time": "2022-09-01T15:45:23.221295",
     "exception": false,
     "start_time": "2022-09-01T15:45:23.177722",
     "status": "completed"
    },
    "tags": []
   },
   "outputs": [],
   "source": [
    "df_qual_TSD = pd.DataFrame(qual_TSD, columns =['Quality', 'Mean TSD'])"
   ]
  },
  {
   "cell_type": "markdown",
   "id": "aa651081",
   "metadata": {
    "id": "WVRM6jqgFsIM",
    "papermill": {
     "duration": 0.032874,
     "end_time": "2022-09-01T15:45:23.287714",
     "exception": false,
     "start_time": "2022-09-01T15:45:23.254840",
     "status": "completed"
    },
    "tags": []
   },
   "source": [
    "And now let’s analyze the average `total sulfur dioxide` for each quality level:"
   ]
  },
  {
   "cell_type": "code",
   "execution_count": 17,
   "id": "4bdc23c5",
   "metadata": {
    "execution": {
     "iopub.execute_input": "2022-09-01T15:45:23.358930Z",
     "iopub.status.busy": "2022-09-01T15:45:23.358521Z",
     "iopub.status.idle": "2022-09-01T15:45:23.582749Z",
     "shell.execute_reply": "2022-09-01T15:45:23.581561Z"
    },
    "id": "k2FcTiWr8AKv",
    "outputId": "5437b3c3-dabe-40cc-877c-d204d2a3a887",
    "papermill": {
     "duration": 0.261048,
     "end_time": "2022-09-01T15:45:23.585135",
     "exception": false,
     "start_time": "2022-09-01T15:45:23.324087",
     "status": "completed"
    },
    "tags": []
   },
   "outputs": [
    {
     "data": {
      "image/png": "[encoded data removed]",
      "text/plain": [
       "<Figure size 720x360 with 1 Axes>"
      ]
     },
     "metadata": {
      "needs_background": "light"
     },
     "output_type": "display_data"
    }
   ],
   "source": [
    "plt.figure(figsize=(10,5))\n",
    "sns.barplot(x=\"Quality\", y=\"Mean TSD\", data=df_qual_TSD)\n",
    "plt.show()"
   ]
  },
  {
   "cell_type": "markdown",
   "id": "9f9c8106",
   "metadata": {
    "id": "ZLuZQOScFw6c",
    "papermill": {
     "duration": 0.033085,
     "end_time": "2022-09-01T15:45:23.651807",
     "exception": false,
     "start_time": "2022-09-01T15:45:23.618722",
     "status": "completed"
    },
    "tags": []
   },
   "source": [
    "The trend that we noticed before exists in our dataset.\n",
    "\n",
    "The more the mean `total sulfur dioxide` decreases, the more the quality of the wine increases, with a break for quality 4.\n",
    "\n",
    "Let’s continue our Bivariate Analysis!"
   ]
  },
  {
   "cell_type": "markdown",
   "id": "ff19c126",
   "metadata": {
    "id": "VQTxRrQT3_xQ",
    "papermill": {
     "duration": 0.033658,
     "end_time": "2022-09-01T15:45:23.719047",
     "exception": false,
     "start_time": "2022-09-01T15:45:23.685389",
     "status": "completed"
    },
    "tags": []
   },
   "source": [
    "#### **Categorical method on numerical data**"
   ]
  },
  {
   "cell_type": "markdown",
   "id": "c2a26e38",
   "metadata": {
    "id": "Wn_BSUb-F9nO",
    "papermill": {
     "duration": 0.033559,
     "end_time": "2022-09-01T15:45:23.786905",
     "exception": false,
     "start_time": "2022-09-01T15:45:23.753346",
     "status": "completed"
    },
    "tags": []
   },
   "source": [
    "##### **Transforming our data**"
   ]
  },
  {
   "cell_type": "markdown",
   "id": "abd6a070",
   "metadata": {
    "id": "jXqaP0shGCGT",
    "papermill": {
     "duration": 0.03316,
     "end_time": "2022-09-01T15:45:23.853999",
     "exception": false,
     "start_time": "2022-09-01T15:45:23.820839",
     "status": "completed"
    },
    "tags": []
   },
   "source": [
    "Let’s see now another approach to analyze our data.\n",
    "\n",
    "Our current data are numerical. That is to say that we cannot classify them in categories. At least not directly.\n",
    "\n",
    "What I propose here is to transform our numerical data into categories. Will this help us in our analysis?\n",
    "\n",
    "That’s what we’ll see right away!\n",
    "\n",
    "Let’s take the alcohol column which represents the alcohol degree of each wine.\n",
    "\n",
    "To transform this information into a category, we will choose values to sort them.\n",
    "\n",
    "We will take all the wines with an alcohol content lower than 9.5° and put them in the category Low. And we will do like that for the 4 classes:\n",
    "\n",
    "- Low when less than 9.5°.\n",
    "- Moderate between 9.5° and 11°.\n",
    "- High between 11° and 12.5°.\n",
    "- Very High when higher than 12.5°.\n",
    "\n",
    "*The alcohol level for our wines starting at 8° and ending at 14°, I made sure that each class has 1.5° difference. This separation is arbitrary. We could have chosen the quartiles indicated by the box plot in the univariate analysis.*"
   ]
  },
  {
   "cell_type": "code",
   "execution_count": 18,
   "id": "4ad7a670",
   "metadata": {
    "execution": {
     "iopub.execute_input": "2022-09-01T15:45:23.922621Z",
     "iopub.status.busy": "2022-09-01T15:45:23.922251Z",
     "iopub.status.idle": "2022-09-01T15:45:23.948578Z",
     "shell.execute_reply": "2022-09-01T15:45:23.947766Z"
    },
    "id": "ApSeg0aI1FDJ",
    "outputId": "09bf838b-fe69-42a0-e2c8-b6d24381bac7",
    "papermill": {
     "duration": 0.063233,
     "end_time": "2022-09-01T15:45:23.950579",
     "exception": false,
     "start_time": "2022-09-01T15:45:23.887346",
     "status": "completed"
    },
    "tags": []
   },
   "outputs": [
    {
     "data": {
      "text/html": [
       "<div>\n",
       "<style scoped>\n",
       "    .dataframe tbody tr th:only-of-type {\n",
       "        vertical-align: middle;\n",
       "    }\n",
       "\n",
       "    .dataframe tbody tr th {\n",
       "        vertical-align: top;\n",
       "    }\n",
       "\n",
       "    .dataframe thead th {\n",
       "        text-align: right;\n",
       "    }\n",
       "</style>\n",
       "<table border=\"1\" class=\"dataframe\">\n",
       "  <thead>\n",
       "    <tr style=\"text-align: right;\">\n",
       "      <th></th>\n",
       "      <th>fixed acidity</th>\n",
       "      <th>volatile acidity</th>\n",
       "      <th>citric acid</th>\n",
       "      <th>residual sugar</th>\n",
       "      <th>chlorides</th>\n",
       "      <th>free sulfur dioxide</th>\n",
       "      <th>total sulfur dioxide</th>\n",
       "      <th>density</th>\n",
       "      <th>pH</th>\n",
       "      <th>sulphates</th>\n",
       "      <th>alcohol</th>\n",
       "      <th>quality</th>\n",
       "      <th>alcohol_category</th>\n",
       "    </tr>\n",
       "  </thead>\n",
       "  <tbody>\n",
       "    <tr>\n",
       "      <th>1065</th>\n",
       "      <td>8.3</td>\n",
       "      <td>0.22</td>\n",
       "      <td>0.38</td>\n",
       "      <td>14.8</td>\n",
       "      <td>0.054</td>\n",
       "      <td>32.0</td>\n",
       "      <td>126.0</td>\n",
       "      <td>1.00020</td>\n",
       "      <td>3.22</td>\n",
       "      <td>0.50</td>\n",
       "      <td>9.7</td>\n",
       "      <td>5</td>\n",
       "      <td>Moderate</td>\n",
       "    </tr>\n",
       "    <tr>\n",
       "      <th>2202</th>\n",
       "      <td>7.1</td>\n",
       "      <td>0.26</td>\n",
       "      <td>0.19</td>\n",
       "      <td>8.2</td>\n",
       "      <td>0.051</td>\n",
       "      <td>53.0</td>\n",
       "      <td>187.0</td>\n",
       "      <td>0.99600</td>\n",
       "      <td>3.16</td>\n",
       "      <td>0.52</td>\n",
       "      <td>9.7</td>\n",
       "      <td>5</td>\n",
       "      <td>Moderate</td>\n",
       "    </tr>\n",
       "    <tr>\n",
       "      <th>3182</th>\n",
       "      <td>5.5</td>\n",
       "      <td>0.12</td>\n",
       "      <td>0.33</td>\n",
       "      <td>1.0</td>\n",
       "      <td>0.038</td>\n",
       "      <td>23.0</td>\n",
       "      <td>131.0</td>\n",
       "      <td>0.99164</td>\n",
       "      <td>3.25</td>\n",
       "      <td>0.45</td>\n",
       "      <td>9.8</td>\n",
       "      <td>5</td>\n",
       "      <td>Moderate</td>\n",
       "    </tr>\n",
       "    <tr>\n",
       "      <th>721</th>\n",
       "      <td>6.0</td>\n",
       "      <td>0.30</td>\n",
       "      <td>0.44</td>\n",
       "      <td>1.5</td>\n",
       "      <td>0.046</td>\n",
       "      <td>15.0</td>\n",
       "      <td>182.0</td>\n",
       "      <td>0.99455</td>\n",
       "      <td>3.50</td>\n",
       "      <td>0.52</td>\n",
       "      <td>10.4</td>\n",
       "      <td>5</td>\n",
       "      <td>Moderate</td>\n",
       "    </tr>\n",
       "    <tr>\n",
       "      <th>2679</th>\n",
       "      <td>7.6</td>\n",
       "      <td>0.18</td>\n",
       "      <td>0.28</td>\n",
       "      <td>7.1</td>\n",
       "      <td>0.041</td>\n",
       "      <td>29.0</td>\n",
       "      <td>110.0</td>\n",
       "      <td>0.99652</td>\n",
       "      <td>3.20</td>\n",
       "      <td>0.42</td>\n",
       "      <td>9.2</td>\n",
       "      <td>6</td>\n",
       "      <td>Low</td>\n",
       "    </tr>\n",
       "  </tbody>\n",
       "</table>\n",
       "</div>"
      ],
      "text/plain": [
       "      fixed acidity  volatile acidity  citric acid  residual sugar  chlorides  \\\n",
       "1065            8.3              0.22         0.38            14.8      0.054   \n",
       "2202            7.1              0.26         0.19             8.2      0.051   \n",
       "3182            5.5              0.12         0.33             1.0      0.038   \n",
       "721             6.0              0.30         0.44             1.5      0.046   \n",
       "2679            7.6              0.18         0.28             7.1      0.041   \n",
       "\n",
       "      free sulfur dioxide  total sulfur dioxide  density    pH  sulphates  \\\n",
       "1065                 32.0                 126.0  1.00020  3.22       0.50   \n",
       "2202                 53.0                 187.0  0.99600  3.16       0.52   \n",
       "3182                 23.0                 131.0  0.99164  3.25       0.45   \n",
       "721                  15.0                 182.0  0.99455  3.50       0.52   \n",
       "2679                 29.0                 110.0  0.99652  3.20       0.42   \n",
       "\n",
       "      alcohol  quality alcohol_category  \n",
       "1065      9.7        5         Moderate  \n",
       "2202      9.7        5         Moderate  \n",
       "3182      9.8        5         Moderate  \n",
       "721      10.4        5         Moderate  \n",
       "2679      9.2        6              Low  "
      ]
     },
     "execution_count": 18,
     "metadata": {},
     "output_type": "execute_result"
    }
   ],
   "source": [
    "def alcohol_cat(alcohol):\n",
    "    if alcohol <= 9.5:\n",
    "        return \"Low\"\n",
    "    elif alcohol <= 11:\n",
    "        return \"Moderate\"\n",
    "    elif alcohol <= 12.5:\n",
    "        return \"High\"\n",
    "    else:\n",
    "        return \"Very High\"\n",
    "\n",
    "df['alcohol_category'] = df['alcohol'].apply(alcohol_cat)\n",
    "df.sample(frac=1).head()"
   ]
  },
  {
   "cell_type": "markdown",
   "id": "e8037a83",
   "metadata": {
    "id": "OuKWAyoVGLrw",
    "papermill": {
     "duration": 0.033563,
     "end_time": "2022-09-01T15:45:24.017923",
     "exception": false,
     "start_time": "2022-09-01T15:45:23.984360",
     "status": "completed"
    },
    "tags": []
   },
   "source": [
    "That’s it! We have our new alcohol_category column that represents the alcohol degree as categorical data."
   ]
  },
  {
   "cell_type": "markdown",
   "id": "8fd693a2",
   "metadata": {
    "id": "V3521ASCGRDI",
    "papermill": {
     "duration": 0.033669,
     "end_time": "2022-09-01T15:45:24.085325",
     "exception": false,
     "start_time": "2022-09-01T15:45:24.051656",
     "status": "completed"
    },
    "tags": []
   },
   "source": [
    "##### **Displaying our data**"
   ]
  },
  {
   "cell_type": "markdown",
   "id": "03e3a743",
   "metadata": {
    "id": "cxzCv241GVKc",
    "papermill": {
     "duration": 0.034224,
     "end_time": "2022-09-01T15:45:24.153953",
     "exception": false,
     "start_time": "2022-09-01T15:45:24.119729",
     "status": "completed"
    },
    "tags": []
   },
   "source": [
    "\n",
    "Now I would like to relate this data to the quality of the wine.\n",
    "\n",
    "For this we use a normalized Crosstab (Pandas object) that we display as a bar plot."
   ]
  },
  {
   "cell_type": "code",
   "execution_count": 19,
   "id": "e2b6059e",
   "metadata": {
    "execution": {
     "iopub.execute_input": "2022-09-01T15:45:24.226574Z",
     "iopub.status.busy": "2022-09-01T15:45:24.225284Z",
     "iopub.status.idle": "2022-09-01T15:45:24.538216Z",
     "shell.execute_reply": "2022-09-01T15:45:24.537309Z"
    },
    "id": "2bsesQkh1gnE",
    "outputId": "f3005b7e-03d6-4434-9c10-5407974044fe",
    "papermill": {
     "duration": 0.351326,
     "end_time": "2022-09-01T15:45:24.540421",
     "exception": false,
     "start_time": "2022-09-01T15:45:24.189095",
     "status": "completed"
    },
    "tags": []
   },
   "outputs": [
    {
     "data": {
      "text/plain": [
       "<Figure size 1080x2160 with 0 Axes>"
      ]
     },
     "metadata": {},
     "output_type": "display_data"
    },
    {
     "data": {
      "image/png": "[encoded data removed]",
      "text/plain": [
       "<Figure size 432x288 with 1 Axes>"
      ]
     },
     "metadata": {
      "needs_background": "light"
     },
     "output_type": "display_data"
    }
   ],
   "source": [
    "import numpy as np\n",
    "\n",
    "plt.figure(figsize=(15,30))\n",
    "\n",
    "cross = pd.crosstab(index=df['quality'],columns=df['alcohol_category'],normalize='index')\n",
    "cross.plot.barh(stacked=True,rot=40,cmap='crest_r').legend(bbox_to_anchor=(1.0, 1.0))\n",
    "plt.xlabel('% distribution per category')\n",
    "plt.xticks(np.arange(0,1.1,0.1))\n",
    "plt.title(\"Wine Quality each {}\".format('alcohol_category'))\n",
    "plt.show()"
   ]
  },
  {
   "cell_type": "markdown",
   "id": "8e0dc2f1",
   "metadata": {
    "id": "Kn0eXzxZGXG2",
    "papermill": {
     "duration": 0.045701,
     "end_time": "2022-09-01T15:45:24.630466",
     "exception": false,
     "start_time": "2022-09-01T15:45:24.584765",
     "status": "completed"
    },
    "tags": []
   },
   "source": [
    "On this graph, we can see the category of alcohol degree that compose each of our wine quality categories.\n",
    "\n",
    "We notice that there are no low alcohol wines in the quality 9 wines.\n",
    "\n",
    "In general, we can see an obvious trend: as the alcohol content increases, the quality of the wine increases too.\n",
    "\n",
    "This does not mean that a 14° wine is necessarily good. But rather that if you take a random 14° wine, there is a good chance that it will be a fine quality wine.\n"
   ]
  },
  {
   "cell_type": "markdown",
   "id": "b61bcee9",
   "metadata": {
    "id": "T6hD1Goq31ND",
    "papermill": {
     "duration": 0.03443,
     "end_time": "2022-09-01T15:45:24.705894",
     "exception": false,
     "start_time": "2022-09-01T15:45:24.671464",
     "status": "completed"
    },
    "tags": []
   },
   "source": [
    "#### **Pearson & Heatmap formula**"
   ]
  },
  {
   "cell_type": "markdown",
   "id": "f7d9111b",
   "metadata": {
    "id": "JmRxJnCmGbga",
    "papermill": {
     "duration": 0.035272,
     "end_time": "2022-09-01T15:45:24.776103",
     "exception": false,
     "start_time": "2022-09-01T15:45:24.740831",
     "status": "completed"
    },
    "tags": []
   },
   "source": [
    "In this first step of Exploratory Data Analysis, we have seen many different techniques to analyze our data.\n",
    "\n",
    "Whether it is to understand and analyze the distribution or to detect the links between our features and our target.\n",
    "\n",
    "I would like to propose you a last graph that is very popular in companies: heatmap.\n",
    "\n",
    "Heatmap is a graph that allows you to directly identify the links between our features and our target (and more generally between each of our data):"
   ]
  },
  {
   "cell_type": "code",
   "execution_count": 20,
   "id": "6c0ed0aa",
   "metadata": {
    "execution": {
     "iopub.execute_input": "2022-09-01T15:45:24.847586Z",
     "iopub.status.busy": "2022-09-01T15:45:24.846999Z",
     "iopub.status.idle": "2022-09-01T15:45:25.190765Z",
     "shell.execute_reply": "2022-09-01T15:45:25.189993Z"
    },
    "id": "pSO8EThcw3iL",
    "outputId": "eaa9da24-8b08-40c2-b769-2adb39a5d70a",
    "papermill": {
     "duration": 0.382114,
     "end_time": "2022-09-01T15:45:25.192892",
     "exception": false,
     "start_time": "2022-09-01T15:45:24.810778",
     "status": "completed"
    },
    "tags": []
   },
   "outputs": [
    {
     "data": {
      "text/plain": [
       "<AxesSubplot:>"
      ]
     },
     "execution_count": 20,
     "metadata": {},
     "output_type": "execute_result"
    },
    {
     "data": {
      "image/png": "[encoded data removed]",
      "text/plain": [
       "<Figure size 1080x144 with 2 Axes>"
      ]
     },
     "metadata": {
      "needs_background": "light"
     },
     "output_type": "display_data"
    }
   ],
   "source": [
    "plt.figure(figsize=(15,2))\n",
    "sns.heatmap(df.corr().iloc[[-1]],\n",
    "            cmap='RdBu_r',\n",
    "            annot=True,\n",
    "            vmin=-1, vmax=1)"
   ]
  },
  {
   "cell_type": "markdown",
   "id": "8c73f61a",
   "metadata": {
    "id": "d4ax3SWkGcRl",
    "papermill": {
     "duration": 0.036551,
     "end_time": "2022-09-01T15:45:25.266338",
     "exception": false,
     "start_time": "2022-09-01T15:45:25.229787",
     "status": "completed"
    },
    "tags": []
   },
   "source": [
    "The closer the value is to 0, the less correlation there is. The closer to 1, the more positive the correlation. And the closer to -1, the more negative the correlation is.\n",
    "\n",
    "Here, we have only displayed the correlation between our features and our target. But you can display the correlation between all our data by changing the line in the code from `df.corr().iloc[[-1]]` to `df.corr()`.\n",
    "\n",
    "We see that the columns most correlated with `quality` are :\n",
    "\n",
    "- `alcohol`\n",
    "- `density`\n",
    "- `chlorides`\n",
    "- `volatile acidity`\n",
    "\n",
    "This type of information is essential to, later, influence the performance of our Machine Learning model.\n",
    "\n",
    "And speaking of model, we now have enough information to do Machine Learning!"
   ]
  },
  {
   "cell_type": "markdown",
   "id": "97f908ea",
   "metadata": {
    "id": "7sODgC6W-nMd",
    "papermill": {
     "duration": 0.035075,
     "end_time": "2022-09-01T15:45:25.338411",
     "exception": false,
     "start_time": "2022-09-01T15:45:25.303336",
     "status": "completed"
    },
    "tags": []
   },
   "source": [
    "## **Second Step: Machine Learning**\n",
    "\n"
   ]
  },
  {
   "cell_type": "markdown",
   "id": "a01136a1",
   "metadata": {
    "id": "GHr39Gre5Uay",
    "papermill": {
     "duration": 0.034833,
     "end_time": "2022-09-01T15:45:25.408291",
     "exception": false,
     "start_time": "2022-09-01T15:45:25.373458",
     "status": "completed"
    },
    "tags": []
   },
   "source": [
    "### **Prepare your data**"
   ]
  },
  {
   "cell_type": "markdown",
   "id": "7efcfae1",
   "metadata": {
    "id": "td2zFHf6G-EY",
    "papermill": {
     "duration": 0.035962,
     "end_time": "2022-09-01T15:45:25.479131",
     "exception": false,
     "start_time": "2022-09-01T15:45:25.443169",
     "status": "completed"
    },
    "tags": []
   },
   "source": [
    "Let’s start by preparing our data.\n",
    "\n",
    "We already have a DataFrame for our features `df_features`, let’s take a DataFrame for our target called `df_label`:"
   ]
  },
  {
   "cell_type": "code",
   "execution_count": 21,
   "id": "4304bf4f",
   "metadata": {
    "execution": {
     "iopub.execute_input": "2022-09-01T15:45:25.551859Z",
     "iopub.status.busy": "2022-09-01T15:45:25.551149Z",
     "iopub.status.idle": "2022-09-01T15:45:25.555183Z",
     "shell.execute_reply": "2022-09-01T15:45:25.554500Z"
    },
    "id": "OToXUy01G8Ia",
    "papermill": {
     "duration": 0.042898,
     "end_time": "2022-09-01T15:45:25.557170",
     "exception": false,
     "start_time": "2022-09-01T15:45:25.514272",
     "status": "completed"
    },
    "tags": []
   },
   "outputs": [],
   "source": [
    "df_label = df['quality']"
   ]
  },
  {
   "cell_type": "markdown",
   "id": "658bc822",
   "metadata": {
    "id": "FBkulJW7HDfn",
    "papermill": {
     "duration": 0.034862,
     "end_time": "2022-09-01T15:45:25.627445",
     "exception": false,
     "start_time": "2022-09-01T15:45:25.592583",
     "status": "completed"
    },
    "tags": []
   },
   "source": [
    "Now we separate our data into different sets. One for training, the other for testing.\n",
    "\n",
    "One will be used to train our model, the other to test its performance.\n",
    "\n",
    "**We call the features X and the label y(target).**\n",
    "\n",
    "This gives us four data sets:\n",
    "\n",
    "- X_train\n",
    "- X_test\n",
    "- y_train\n",
    "- y_test"
   ]
  },
  {
   "cell_type": "code",
   "execution_count": 22,
   "id": "f0693bc3",
   "metadata": {
    "execution": {
     "iopub.execute_input": "2022-09-01T15:45:25.699558Z",
     "iopub.status.busy": "2022-09-01T15:45:25.698888Z",
     "iopub.status.idle": "2022-09-01T15:45:25.908145Z",
     "shell.execute_reply": "2022-09-01T15:45:25.906903Z"
    },
    "id": "K995_gYN32Pf",
    "papermill": {
     "duration": 0.248469,
     "end_time": "2022-09-01T15:45:25.910734",
     "exception": false,
     "start_time": "2022-09-01T15:45:25.662265",
     "status": "completed"
    },
    "tags": []
   },
   "outputs": [],
   "source": [
    "from sklearn.model_selection import train_test_split\n",
    "\n",
    "X_train, X_test, y_train, y_test = train_test_split(df_features, df_label, test_size=0.20)"
   ]
  },
  {
   "cell_type": "markdown",
   "id": "5b27a377",
   "metadata": {
    "id": "_5qm7ukLHKHZ",
    "papermill": {
     "duration": 0.035299,
     "end_time": "2022-09-01T15:45:25.981614",
     "exception": false,
     "start_time": "2022-09-01T15:45:25.946315",
     "status": "completed"
    },
    "tags": []
   },
   "source": [
    "We separated them so that we have 80% of our total data in X and 20% in y. We check that the sets have the right size:"
   ]
  },
  {
   "cell_type": "code",
   "execution_count": 23,
   "id": "31b5ae44",
   "metadata": {
    "execution": {
     "iopub.execute_input": "2022-09-01T15:45:26.055090Z",
     "iopub.status.busy": "2022-09-01T15:45:26.054598Z",
     "iopub.status.idle": "2022-09-01T15:45:26.060544Z",
     "shell.execute_reply": "2022-09-01T15:45:26.059388Z"
    },
    "id": "uNTbFgDf4VTS",
    "outputId": "15555970-0b7b-4bb5-9498-3e3e2593ea6b",
    "papermill": {
     "duration": 0.04606,
     "end_time": "2022-09-01T15:45:26.063755",
     "exception": false,
     "start_time": "2022-09-01T15:45:26.017695",
     "status": "completed"
    },
    "tags": []
   },
   "outputs": [
    {
     "name": "stdout",
     "output_type": "stream",
     "text": [
      "(3918, 3918)\n",
      "(980, 980)\n"
     ]
    }
   ],
   "source": [
    "print((len(X_train), len(y_train)))\n",
    "print((len(X_test), len(y_test)))"
   ]
  },
  {
   "cell_type": "markdown",
   "id": "440d808c",
   "metadata": {
    "id": "lWpaJrIzHMUQ",
    "papermill": {
     "duration": 0.034651,
     "end_time": "2022-09-01T15:45:26.133925",
     "exception": false,
     "start_time": "2022-09-01T15:45:26.099274",
     "status": "completed"
    },
    "tags": []
   },
   "source": [
    "With these data we can train Machine Learning models."
   ]
  },
  {
   "cell_type": "markdown",
   "id": "fbd8b017",
   "metadata": {
    "id": "8GwSi3A-HO2A",
    "papermill": {
     "duration": 0.034711,
     "end_time": "2022-09-01T15:45:26.203917",
     "exception": false,
     "start_time": "2022-09-01T15:45:26.169206",
     "status": "completed"
    },
    "tags": []
   },
   "source": [
    "### **What is training in Machine Learning?**"
   ]
  },
  {
   "cell_type": "markdown",
   "id": "8814d651",
   "metadata": {
    "id": "TuyUKm9sHS83",
    "papermill": {
     "duration": 0.034939,
     "end_time": "2022-09-01T15:45:26.274750",
     "exception": false,
     "start_time": "2022-09-01T15:45:26.239811",
     "status": "completed"
    },
    "tags": []
   },
   "source": [
    "**Here’s how training a model works:**\n",
    "\n",
    "- Machine Learning model looks at each value of X_train and y_train\n",
    "- It establishes a function that allows, with the X_train values, to find y_train\n",
    "- We test the performance of the model by seeing if, from X_test, the model succeeds in deducing y_test\n",
    "\n",
    "In other words, the model is trained to deduce the quality of wine from 80% of the bottles and their features.\n",
    "\n",
    "The training is completed once the model has established an equation that relates the bottles of wine to their respective quality.\n",
    "\n",
    "It can then test its performance on the remaining 20% of bottles.\n",
    "\n",
    "> Its goal is to find a function that works for both the training data and the test data.\n",
    "\n",
    "**The difficulty lies here.**\n",
    "\n",
    "If the training data represents the real world then the model will perform well.\n",
    "\n",
    "Conversely, if the data does not represent the wines diversity, then it will have more difficulty in predicting the test data.\n",
    "\n",
    "Indeed, if the model never sees a wine of quality 9 during training, during the performance test, if it comes across a bottle of quality 9, it will not be able to classify it in the right way.\n",
    "\n",
    "This is where the importance of Univariate Analysis comes in, as it allows us to understand the biases in our dataset and therefore the possible obstacles we will face.\n",
    "\n",
    "But without further ado, let’s get down to business and FINALLY implement Machine Learning!"
   ]
  },
  {
   "cell_type": "markdown",
   "id": "cc73bd33",
   "metadata": {
    "id": "azDetBjFANHO",
    "papermill": {
     "duration": 0.034745,
     "end_time": "2022-09-01T15:45:26.344996",
     "exception": false,
     "start_time": "2022-09-01T15:45:26.310251",
     "status": "completed"
    },
    "tags": []
   },
   "source": [
    "### **Machine Learning Models**"
   ]
  },
  {
   "cell_type": "markdown",
   "id": "6b70dcf3",
   "metadata": {
    "id": "45YKzfo5HjHw",
    "papermill": {
     "duration": 0.034587,
     "end_time": "2022-09-01T15:45:26.414795",
     "exception": false,
     "start_time": "2022-09-01T15:45:26.380208",
     "status": "completed"
    },
    "tags": []
   },
   "source": [
    "This article is designed for beginners in Machine Learning. Let’s assume that we don’t know which model to use.\n",
    "\n",
    "We have only one information: we have to **predict categories**, levels of wine quality.\n",
    "\n",
    "Hence it’s **a classification exercise.**\n",
    "\n",
    "So we will use each classification model, understand how they work and evaluate their performance."
   ]
  },
  {
   "cell_type": "markdown",
   "id": "7928b1d3",
   "metadata": {
    "id": "MuuRNS-XASBn",
    "papermill": {
     "duration": 0.034776,
     "end_time": "2022-09-01T15:45:26.485088",
     "exception": false,
     "start_time": "2022-09-01T15:45:26.450312",
     "status": "completed"
    },
    "tags": []
   },
   "source": [
    "#### **Logistic Regression**"
   ]
  },
  {
   "cell_type": "markdown",
   "id": "c6e32ec4",
   "metadata": {
    "id": "iaoI85O1HoTh",
    "papermill": {
     "duration": 0.034168,
     "end_time": "2022-09-01T15:45:26.554164",
     "exception": false,
     "start_time": "2022-09-01T15:45:26.519996",
     "status": "completed"
    },
    "tags": []
   },
   "source": [
    "Logistic Regression is a model that allows us to infer a categorical variable from feature data.\n",
    "\n",
    "The Machine Learning model of regression analyzes our data one by one to establish a simple rule to determine the category to which each wine belongs.\n",
    "\n",
    "In mathematical terms, Logistic Regression builds a function that allows, from feature data, to calculate the probability of belonging to each class."
   ]
  },
  {
   "cell_type": "code",
   "execution_count": 24,
   "id": "64926a04",
   "metadata": {
    "execution": {
     "iopub.execute_input": "2022-09-01T15:45:26.626773Z",
     "iopub.status.busy": "2022-09-01T15:45:26.625571Z",
     "iopub.status.idle": "2022-09-01T15:45:27.192342Z",
     "shell.execute_reply": "2022-09-01T15:45:27.189921Z"
    },
    "id": "HSioOMV0ANsH",
    "outputId": "d6074509-5743-4bb3-aa50-02f10f35b88d",
    "papermill": {
     "duration": 0.607802,
     "end_time": "2022-09-01T15:45:27.197589",
     "exception": false,
     "start_time": "2022-09-01T15:45:26.589787",
     "status": "completed"
    },
    "tags": []
   },
   "outputs": [
    {
     "name": "stderr",
     "output_type": "stream",
     "text": [
      "/opt/conda/lib/python3.7/site-packages/sklearn/linear_model/_logistic.py:818: ConvergenceWarning: lbfgs failed to converge (status=1):\n",
      "STOP: TOTAL NO. of ITERATIONS REACHED LIMIT.\n",
      "\n",
      "Increase the number of iterations (max_iter) or scale the data as shown in:\n",
      "    https://scikit-learn.org/stable/modules/preprocessing.html\n",
      "Please also refer to the documentation for alternative solver options:\n",
      "    https://scikit-learn.org/stable/modules/linear_model.html#logistic-regression\n",
      "  extra_warning_msg=_LOGISTIC_SOLVER_CONVERGENCE_MSG,\n"
     ]
    },
    {
     "data": {
      "text/plain": [
       "LogisticRegression()"
      ]
     },
     "execution_count": 24,
     "metadata": {},
     "output_type": "execute_result"
    }
   ],
   "source": [
    "from sklearn.linear_model import LogisticRegression\n",
    "\n",
    "logisticRegression = LogisticRegression()\n",
    "logisticRegression.fit(X_train, y_train)"
   ]
  },
  {
   "cell_type": "markdown",
   "id": "7c5819ce",
   "metadata": {
    "id": "HkYwEYy9HpPv",
    "papermill": {
     "duration": 0.04512,
     "end_time": "2022-09-01T15:45:27.329009",
     "exception": false,
     "start_time": "2022-09-01T15:45:27.283889",
     "status": "completed"
    },
    "tags": []
   },
   "source": [
    "And the score obtained:"
   ]
  },
  {
   "cell_type": "code",
   "execution_count": 25,
   "id": "db30c959",
   "metadata": {
    "execution": {
     "iopub.execute_input": "2022-09-01T15:45:27.402980Z",
     "iopub.status.busy": "2022-09-01T15:45:27.401982Z",
     "iopub.status.idle": "2022-09-01T15:45:27.412328Z",
     "shell.execute_reply": "2022-09-01T15:45:27.411364Z"
    },
    "id": "dxYagc0zAdcA",
    "outputId": "b98b0eaa-b7d4-4d5c-bef7-eb7c997494df",
    "papermill": {
     "duration": 0.049697,
     "end_time": "2022-09-01T15:45:27.414679",
     "exception": false,
     "start_time": "2022-09-01T15:45:27.364982",
     "status": "completed"
    },
    "tags": []
   },
   "outputs": [
    {
     "data": {
      "text/plain": [
       "0.43979591836734694"
      ]
     },
     "execution_count": 25,
     "metadata": {},
     "output_type": "execute_result"
    }
   ],
   "source": [
    "logisticRegression.score(X_test, y_test)"
   ]
  },
  {
   "cell_type": "markdown",
   "id": "338ab11a",
   "metadata": {
    "id": "TPjblDqzHv8O",
    "papermill": {
     "duration": 0.036831,
     "end_time": "2022-09-01T15:45:27.487814",
     "exception": false,
     "start_time": "2022-09-01T15:45:27.450983",
     "status": "completed"
    },
    "tags": []
   },
   "source": [
    "Let’s display the probabilities of belonging to each class for the first row of our dataset:"
   ]
  },
  {
   "cell_type": "code",
   "execution_count": 26,
   "id": "c2205666",
   "metadata": {
    "execution": {
     "iopub.execute_input": "2022-09-01T15:45:27.562410Z",
     "iopub.status.busy": "2022-09-01T15:45:27.561591Z",
     "iopub.status.idle": "2022-09-01T15:45:27.570795Z",
     "shell.execute_reply": "2022-09-01T15:45:27.569896Z"
    },
    "id": "YZQrxU2w3NJI",
    "outputId": "a3f15dcf-b83c-4048-cb81-f4d7f963d0a8",
    "papermill": {
     "duration": 0.048511,
     "end_time": "2022-09-01T15:45:27.573000",
     "exception": false,
     "start_time": "2022-09-01T15:45:27.524489",
     "status": "completed"
    },
    "tags": []
   },
   "outputs": [
    {
     "data": {
      "text/plain": [
       "array([[0.01791634, 0.00560216, 0.08035776, 0.42733923, 0.37833868,\n",
       "        0.08728566, 0.00316018]])"
      ]
     },
     "execution_count": 26,
     "metadata": {},
     "output_type": "execute_result"
    }
   ],
   "source": [
    "logisticRegression.predict_proba(X_test.iloc[:1])"
   ]
  },
  {
   "cell_type": "markdown",
   "id": "5148b81b",
   "metadata": {
    "id": "XjJ2Ne3LHxvv",
    "papermill": {
     "duration": 0.036946,
     "end_time": "2022-09-01T15:45:27.645421",
     "exception": false,
     "start_time": "2022-09-01T15:45:27.608475",
     "status": "completed"
    },
    "tags": []
   },
   "source": [
    "- 3 : 0.003\n",
    "- 4 : 0.022\n",
    "- 5 : 0.273\n",
    "- 6 : 0.470\n",
    "- 7 : 0.192\n",
    "- 8 : 0.036\n",
    "- 9 : 0.001\n",
    "\n",
    "Here the highest probability is for class 6. But what is the right result?\n"
   ]
  },
  {
   "cell_type": "code",
   "execution_count": 27,
   "id": "1ff7a889",
   "metadata": {
    "execution": {
     "iopub.execute_input": "2022-09-01T15:45:27.720372Z",
     "iopub.status.busy": "2022-09-01T15:45:27.719569Z",
     "iopub.status.idle": "2022-09-01T15:45:27.727312Z",
     "shell.execute_reply": "2022-09-01T15:45:27.726516Z"
    },
    "id": "LAixUb9A3gMV",
    "outputId": "0db7e442-834b-480e-b1a6-1eca4691ccc3",
    "papermill": {
     "duration": 0.046859,
     "end_time": "2022-09-01T15:45:27.729462",
     "exception": false,
     "start_time": "2022-09-01T15:45:27.682603",
     "status": "completed"
    },
    "tags": []
   },
   "outputs": [
    {
     "data": {
      "text/plain": [
       "3136    5\n",
       "Name: quality, dtype: int64"
      ]
     },
     "execution_count": 27,
     "metadata": {},
     "output_type": "execute_result"
    }
   ],
   "source": [
    "y_test.iloc[:1]"
   ]
  },
  {
   "cell_type": "markdown",
   "id": "41ac8b59",
   "metadata": {
    "id": "ORfWDMSe5St4",
    "papermill": {
     "duration": 0.035008,
     "end_time": "2022-09-01T15:45:27.800362",
     "exception": false,
     "start_time": "2022-09-01T15:45:27.765354",
     "status": "completed"
    },
    "tags": []
   },
   "source": [
    "#### **Support Vector Machines**"
   ]
  },
  {
   "cell_type": "markdown",
   "id": "d8b65eed",
   "metadata": {
    "id": "RF8HfesEH6Am",
    "papermill": {
     "duration": 0.035435,
     "end_time": "2022-09-01T15:45:27.870313",
     "exception": false,
     "start_time": "2022-09-01T15:45:27.834878",
     "status": "completed"
    },
    "tags": []
   },
   "source": [
    "The Support Vector Machines is a high performance Machine Learning algorithm.\n",
    "\n",
    "The SVM draws an empty space (let’s imagine a 2D space with abscissa and ordinate). Then it looks at each row of our dataset and gives it a position in the space according to its features (X) but also is category (y) to which it belongs. When a line belongs to a new category (a different quality of wine), it projects this point in order to maximize the distance between this category and the formers.\n",
    "\n",
    "The model repeats this operation until it obtains a complete space called SVM map.\n",
    "\n",
    "To predict, the SVM simply takes the new data and according to the features, positions its related point on the space. Its position will then give the category to which it belongs.\n",
    "\n",
    "The SVM in practice :"
   ]
  },
  {
   "cell_type": "code",
   "execution_count": 28,
   "id": "d5fde7fb",
   "metadata": {
    "execution": {
     "iopub.execute_input": "2022-09-01T15:45:27.943657Z",
     "iopub.status.busy": "2022-09-01T15:45:27.942854Z",
     "iopub.status.idle": "2022-09-01T15:45:28.945514Z",
     "shell.execute_reply": "2022-09-01T15:45:28.944411Z"
    },
    "id": "nQUKT7AS4q8a",
    "outputId": "80e8ba90-6c6f-4fec-8c2e-dfce9a355d81",
    "papermill": {
     "duration": 1.04216,
     "end_time": "2022-09-01T15:45:28.948024",
     "exception": false,
     "start_time": "2022-09-01T15:45:27.905864",
     "status": "completed"
    },
    "tags": []
   },
   "outputs": [
    {
     "data": {
      "text/plain": [
       "SVC()"
      ]
     },
     "execution_count": 28,
     "metadata": {},
     "output_type": "execute_result"
    }
   ],
   "source": [
    "from sklearn import svm\n",
    "\n",
    "SVM = svm.SVC()\n",
    "SVM.fit(X_train, y_train)"
   ]
  },
  {
   "cell_type": "markdown",
   "id": "8c5e89da",
   "metadata": {
    "id": "FAhVrjGnHrWU",
    "papermill": {
     "duration": 0.119845,
     "end_time": "2022-09-01T15:45:29.105384",
     "exception": false,
     "start_time": "2022-09-01T15:45:28.985539",
     "status": "completed"
    },
    "tags": []
   },
   "source": [
    "And the score obtained:"
   ]
  },
  {
   "cell_type": "code",
   "execution_count": 29,
   "id": "3db79f22",
   "metadata": {
    "execution": {
     "iopub.execute_input": "2022-09-01T15:45:29.178662Z",
     "iopub.status.busy": "2022-09-01T15:45:29.178222Z",
     "iopub.status.idle": "2022-09-01T15:45:29.433612Z",
     "shell.execute_reply": "2022-09-01T15:45:29.432453Z"
    },
    "id": "6MyD9ApB4uX4",
    "outputId": "3f484667-622d-44d7-af97-113dd288b561",
    "papermill": {
     "duration": 0.294799,
     "end_time": "2022-09-01T15:45:29.436167",
     "exception": false,
     "start_time": "2022-09-01T15:45:29.141368",
     "status": "completed"
    },
    "tags": []
   },
   "outputs": [
    {
     "data": {
      "text/plain": [
       "0.42857142857142855"
      ]
     },
     "execution_count": 29,
     "metadata": {},
     "output_type": "execute_result"
    }
   ],
   "source": [
    "SVM.score(X_test, y_test)"
   ]
  },
  {
   "cell_type": "markdown",
   "id": "9e0ee834",
   "metadata": {
    "id": "1ajG_z6Y5btO",
    "papermill": {
     "duration": 0.036475,
     "end_time": "2022-09-01T15:45:29.508554",
     "exception": false,
     "start_time": "2022-09-01T15:45:29.472079",
     "status": "completed"
    },
    "tags": []
   },
   "source": [
    "#### **Stochastic Gradient Descent**"
   ]
  },
  {
   "cell_type": "markdown",
   "id": "91b72d7f",
   "metadata": {
    "id": "75d5cxI9H_5t",
    "papermill": {
     "duration": 0.035361,
     "end_time": "2022-09-01T15:45:29.579823",
     "exception": false,
     "start_time": "2022-09-01T15:45:29.544462",
     "status": "completed"
    },
    "tags": []
   },
   "source": [
    "\n",
    "If you’ve understood how SVM works, you will easily understand Stochastic Gradient Descent.\n",
    "\n",
    "SVM consists of taking points and projecting them onto a space, a plane, in such a way as to maximize the distance between the different categories.\n",
    "\n",
    "In mathematical terms, this is called finding the optimal of a function.\n",
    "\n",
    "And the Stochastic Gradient Descent (SGD) is in fact an optimizer that allows to improve algorithms (or functions) such as SVM, Logistic Regression, etc.\n",
    "\n",
    "The same optimizer is used in Neural Networks. This makes SGD one of the fundamental Machine Learning concepts.\n",
    "\n",
    "Let’s use it now, by default it optimizes an SVM:"
   ]
  },
  {
   "cell_type": "code",
   "execution_count": 30,
   "id": "46a38584",
   "metadata": {
    "execution": {
     "iopub.execute_input": "2022-09-01T15:45:29.655811Z",
     "iopub.status.busy": "2022-09-01T15:45:29.654733Z",
     "iopub.status.idle": "2022-09-01T15:45:29.843857Z",
     "shell.execute_reply": "2022-09-01T15:45:29.842915Z"
    },
    "id": "mMymil9e5oNR",
    "outputId": "5b3a31df-c77a-42d3-f30c-31836a39483c",
    "papermill": {
     "duration": 0.229429,
     "end_time": "2022-09-01T15:45:29.846230",
     "exception": false,
     "start_time": "2022-09-01T15:45:29.616801",
     "status": "completed"
    },
    "tags": []
   },
   "outputs": [
    {
     "data": {
      "text/plain": [
       "SGDClassifier()"
      ]
     },
     "execution_count": 30,
     "metadata": {},
     "output_type": "execute_result"
    }
   ],
   "source": [
    "from sklearn.linear_model import SGDClassifier\n",
    "\n",
    "SGD = SGDClassifier()\n",
    "SGD.fit(X_train, y_train)"
   ]
  },
  {
   "cell_type": "markdown",
   "id": "e9b11302",
   "metadata": {
    "id": "cv_xEhweHr-3",
    "papermill": {
     "duration": 0.035401,
     "end_time": "2022-09-01T15:45:29.985273",
     "exception": false,
     "start_time": "2022-09-01T15:45:29.949872",
     "status": "completed"
    },
    "tags": []
   },
   "source": [
    "And the score obtained:"
   ]
  },
  {
   "cell_type": "code",
   "execution_count": 31,
   "id": "2fe18843",
   "metadata": {
    "execution": {
     "iopub.execute_input": "2022-09-01T15:45:30.059738Z",
     "iopub.status.busy": "2022-09-01T15:45:30.058743Z",
     "iopub.status.idle": "2022-09-01T15:45:30.067001Z",
     "shell.execute_reply": "2022-09-01T15:45:30.066226Z"
    },
    "id": "9XTm4PyJ5oNU",
    "outputId": "2ceb837d-fb19-4666-cf6c-fb1ff91db3bb",
    "papermill": {
     "duration": 0.047588,
     "end_time": "2022-09-01T15:45:30.068998",
     "exception": false,
     "start_time": "2022-09-01T15:45:30.021410",
     "status": "completed"
    },
    "tags": []
   },
   "outputs": [
    {
     "data": {
      "text/plain": [
       "0.4357142857142857"
      ]
     },
     "execution_count": 31,
     "metadata": {},
     "output_type": "execute_result"
    }
   ],
   "source": [
    "SGD.score(X_test, y_test)"
   ]
  },
  {
   "cell_type": "markdown",
   "id": "c34a5ed3",
   "metadata": {
    "id": "fCQOEI6BBHOi",
    "papermill": {
     "duration": 0.036272,
     "end_time": "2022-09-01T15:45:30.141778",
     "exception": false,
     "start_time": "2022-09-01T15:45:30.105506",
     "status": "completed"
    },
    "tags": []
   },
   "source": [
    "#### **Naive Bayes**"
   ]
  },
  {
   "cell_type": "markdown",
   "id": "f93fbfa1",
   "metadata": {
    "id": "LFdYaDFPICjW",
    "papermill": {
     "duration": 0.035905,
     "end_time": "2022-09-01T15:45:30.213790",
     "exception": false,
     "start_time": "2022-09-01T15:45:30.177885",
     "status": "completed"
    },
    "tags": []
   },
   "source": [
    "The Naive Bayes algorithm is based on [Bayes’ Theorem.](https://en.wikipedia.org/wiki/Bayes%27_theorem)\n",
    "\n",
    "In non-mathematical language, the Theorem considers that our features are related to our target, and that we can draw a function to links them together.\n",
    "\n",
    "The principle is the same as for most Classification Algorithms. The difference lies in the function used to establish the links between our data.\n",
    "\n",
    "We add a naive approach to this theorem (hence the name Naive Bayes), i.e. we consider that the features are independent from one another.\n",
    "\n",
    "For example, here we have two features fixed acidity and volatile acidity. We can consider that these two characteristics are correlated because they both measure an acidity level. Well, even if they are correlated, Naive Bayes will assume that they are independent in its analysis.\n",
    "\n",
    "This approach may seem counter-intuitive but on some datasets, the Naive Bayes performs miracles!\n",
    "\n",
    "The Naive Bayes in action:"
   ]
  },
  {
   "cell_type": "code",
   "execution_count": 32,
   "id": "b8fabb08",
   "metadata": {
    "execution": {
     "iopub.execute_input": "2022-09-01T15:45:30.288814Z",
     "iopub.status.busy": "2022-09-01T15:45:30.288348Z",
     "iopub.status.idle": "2022-09-01T15:45:30.301307Z",
     "shell.execute_reply": "2022-09-01T15:45:30.300330Z"
    },
    "id": "LkMR0ACdBEqN",
    "outputId": "9d2bc0be-4fe1-4254-8a2c-eda437d77aef",
    "papermill": {
     "duration": 0.053051,
     "end_time": "2022-09-01T15:45:30.303496",
     "exception": false,
     "start_time": "2022-09-01T15:45:30.250445",
     "status": "completed"
    },
    "tags": []
   },
   "outputs": [
    {
     "data": {
      "text/plain": [
       "GaussianNB()"
      ]
     },
     "execution_count": 32,
     "metadata": {},
     "output_type": "execute_result"
    }
   ],
   "source": [
    "from sklearn.naive_bayes import GaussianNB\n",
    "\n",
    "GNB = GaussianNB()\n",
    "GNB.fit(X_train, y_train)"
   ]
  },
  {
   "cell_type": "markdown",
   "id": "a623f9f6",
   "metadata": {
    "id": "Wo2WpdhlHs-4",
    "papermill": {
     "duration": 0.035977,
     "end_time": "2022-09-01T15:45:30.376954",
     "exception": false,
     "start_time": "2022-09-01T15:45:30.340977",
     "status": "completed"
    },
    "tags": []
   },
   "source": [
    "And the score obtained:"
   ]
  },
  {
   "cell_type": "code",
   "execution_count": 33,
   "id": "85c7d5b8",
   "metadata": {
    "execution": {
     "iopub.execute_input": "2022-09-01T15:45:30.451464Z",
     "iopub.status.busy": "2022-09-01T15:45:30.450807Z",
     "iopub.status.idle": "2022-09-01T15:45:30.459304Z",
     "shell.execute_reply": "2022-09-01T15:45:30.458585Z"
    },
    "id": "srV2n38ABNSO",
    "outputId": "0d9d2faa-e08d-4431-d5b8-c6c2b0279686",
    "papermill": {
     "duration": 0.047882,
     "end_time": "2022-09-01T15:45:30.461309",
     "exception": false,
     "start_time": "2022-09-01T15:45:30.413427",
     "status": "completed"
    },
    "tags": []
   },
   "outputs": [
    {
     "data": {
      "text/plain": [
       "0.4489795918367347"
      ]
     },
     "execution_count": 33,
     "metadata": {},
     "output_type": "execute_result"
    }
   ],
   "source": [
    "GNB.score(X_test, y_test)"
   ]
  },
  {
   "cell_type": "markdown",
   "id": "aa33997a",
   "metadata": {
    "id": "oNkoVa176LBs",
    "papermill": {
     "duration": 0.035886,
     "end_time": "2022-09-01T15:45:30.533771",
     "exception": false,
     "start_time": "2022-09-01T15:45:30.497885",
     "status": "completed"
    },
    "tags": []
   },
   "source": [
    "#### **Decision Tree**"
   ]
  },
  {
   "cell_type": "markdown",
   "id": "c1acf521",
   "metadata": {
    "id": "jQxTSBe1IG7D",
    "papermill": {
     "duration": 0.035962,
     "end_time": "2022-09-01T15:45:30.609796",
     "exception": false,
     "start_time": "2022-09-01T15:45:30.573834",
     "status": "completed"
    },
    "tags": []
   },
   "source": [
    "The Decision Tree is one of the most widely used algorithms and the easiest to understand!\n",
    "\n",
    "It makes hypotheses in the form of a tree. Each node of the tree represents a hypothesis about a characteristic.\n",
    "\n",
    "The tree can have a huge length and may test several features in different ways.\n",
    "\n",
    "Here is how to use the Decision Tree:\n",
    "\n"
   ]
  },
  {
   "cell_type": "code",
   "execution_count": 34,
   "id": "f9ed7843",
   "metadata": {
    "execution": {
     "iopub.execute_input": "2022-09-01T15:45:30.684201Z",
     "iopub.status.busy": "2022-09-01T15:45:30.683805Z",
     "iopub.status.idle": "2022-09-01T15:45:30.802990Z",
     "shell.execute_reply": "2022-09-01T15:45:30.802168Z"
    },
    "id": "6IxiN-dR54ci",
    "outputId": "869c083c-eebe-4105-b5f1-53da028ed5cb",
    "papermill": {
     "duration": 0.159064,
     "end_time": "2022-09-01T15:45:30.805041",
     "exception": false,
     "start_time": "2022-09-01T15:45:30.645977",
     "status": "completed"
    },
    "tags": []
   },
   "outputs": [
    {
     "data": {
      "text/plain": [
       "DecisionTreeClassifier()"
      ]
     },
     "execution_count": 34,
     "metadata": {},
     "output_type": "execute_result"
    }
   ],
   "source": [
    "from sklearn import tree\n",
    "\n",
    "decisionTree = tree.DecisionTreeClassifier()\n",
    "decisionTree.fit(X_train, y_train)"
   ]
  },
  {
   "cell_type": "markdown",
   "id": "39129ce4",
   "metadata": {
    "id": "cglYsKTQHtsf",
    "papermill": {
     "duration": 0.036245,
     "end_time": "2022-09-01T15:45:30.877501",
     "exception": false,
     "start_time": "2022-09-01T15:45:30.841256",
     "status": "completed"
    },
    "tags": []
   },
   "source": [
    "And the score obtained:"
   ]
  },
  {
   "cell_type": "code",
   "execution_count": 35,
   "id": "b6320752",
   "metadata": {
    "execution": {
     "iopub.execute_input": "2022-09-01T15:45:30.952886Z",
     "iopub.status.busy": "2022-09-01T15:45:30.951811Z",
     "iopub.status.idle": "2022-09-01T15:45:30.960412Z",
     "shell.execute_reply": "2022-09-01T15:45:30.959692Z"
    },
    "id": "pRg8egux6UjM",
    "outputId": "b685b00c-d891-47f3-b9a3-d097624a9952",
    "papermill": {
     "duration": 0.048284,
     "end_time": "2022-09-01T15:45:30.962475",
     "exception": false,
     "start_time": "2022-09-01T15:45:30.914191",
     "status": "completed"
    },
    "tags": []
   },
   "outputs": [
    {
     "data": {
      "text/plain": [
       "0.5867346938775511"
      ]
     },
     "execution_count": 35,
     "metadata": {},
     "output_type": "execute_result"
    }
   ],
   "source": [
    "decisionTree.score(X_test, y_test)"
   ]
  },
  {
   "cell_type": "markdown",
   "id": "4137419b",
   "metadata": {
    "id": "hgChQksVITvq",
    "papermill": {
     "duration": 0.036811,
     "end_time": "2022-09-01T15:45:31.036174",
     "exception": false,
     "start_time": "2022-09-01T15:45:30.999363",
     "status": "completed"
    },
    "tags": []
   },
   "source": [
    "One last thing about the Decision Tree: you can easily display the tree thanks to the GraphViz library.\n",
    "\n",
    "This tree is essential to understand how our Machine Learning Algorithm makes its choices. This is one of the characteristics that makes it indispensable to Data Scientists and Machine Learning Engineers!"
   ]
  },
  {
   "cell_type": "code",
   "execution_count": 36,
   "id": "bb8a2771",
   "metadata": {
    "execution": {
     "iopub.execute_input": "2022-09-01T15:45:31.112455Z",
     "iopub.status.busy": "2022-09-01T15:45:31.111758Z",
     "iopub.status.idle": "2022-09-01T15:45:37.830359Z",
     "shell.execute_reply": "2022-09-01T15:45:37.829167Z"
    },
    "id": "_6iXKjMz6Zrw",
    "outputId": "50f5f8a8-ea20-42ae-a6d8-aa045d13d5fb",
    "papermill": {
     "duration": 6.759664,
     "end_time": "2022-09-01T15:45:37.833044",
     "exception": false,
     "start_time": "2022-09-01T15:45:31.073380",
     "status": "completed"
    },
    "tags": []
   },
   "outputs": [
    {
     "data": {
      "text/plain": [
       "'wine.pdf'"
      ]
     },
     "execution_count": 36,
     "metadata": {},
     "output_type": "execute_result"
    }
   ],
   "source": [
    "import graphviz \n",
    "\n",
    "dot_data = tree.export_graphviz(decisionTree, out_file=None,\n",
    "                                feature_names=df_features.columns.to_list(),\n",
    "                                class_names=df_label.name,\n",
    "                                filled=True, rounded=True,\n",
    "                                special_characters=True)\n",
    "graph = graphviz.Source(dot_data)\n",
    "graph.render(\"wine\")"
   ]
  },
  {
   "cell_type": "markdown",
   "id": "aec88f86",
   "metadata": {
    "id": "EeLjmANIAm97",
    "papermill": {
     "duration": 0.036239,
     "end_time": "2022-09-01T15:45:37.907053",
     "exception": false,
     "start_time": "2022-09-01T15:45:37.870814",
     "status": "completed"
    },
    "tags": []
   },
   "source": [
    "## **Going further…**"
   ]
  },
  {
   "cell_type": "markdown",
   "id": "b9a20050",
   "metadata": {
    "id": "dHyxodYbAp7R",
    "papermill": {
     "duration": 0.036451,
     "end_time": "2022-09-01T15:45:37.980101",
     "exception": false,
     "start_time": "2022-09-01T15:45:37.943650",
     "status": "completed"
    },
    "tags": []
   },
   "source": [
    "As you have seen, most of our models have a performance between 40 and 50%.\n",
    "\n",
    "The Decision Tree surpasses them all by obtaining an accuracy of 60%!\n",
    "\n",
    "A Machine Learning model is considered good when it reaches 70% accuracy. And it is considered reliable when its performance exceeds 80%.\n",
    "\n",
    "**Fortunately, we have only scratched the surface of Machine Learning.**\n",
    "\n",
    "There are multiple methods to improve a Machine Learning model:\n",
    "\n",
    "- [Normalize data](https://inside-machinelearning.com/en/normalize-your-data/)\n",
    "- [Cross-Validation](https://inside-machinelearning.com/en/cross-validation-tutorial/)\n",
    "- Change the hyperparameters of the models\n",
    "- Data Augmentation\n",
    "- Ensemble methods\n",
    "\n",
    "We could for example start by using the SGD with Logistic Regression instead of the SVM!\n",
    "\n",
    "**And you, what score did you get and how did you do?**\n",
    "\n",
    "Want to stay tuned? Feel free to subscribe to our newsletter 😉"
   ]
  },
  {
   "cell_type": "code",
   "execution_count": null,
   "id": "401ff9ac",
   "metadata": {
    "papermill": {
     "duration": 0.036189,
     "end_time": "2022-09-01T15:45:38.053109",
     "exception": false,
     "start_time": "2022-09-01T15:45:38.016920",
     "status": "completed"
    },
    "tags": []
   },
   "outputs": [],
   "source": []
  }
 ],
 "metadata": {
  "kernelspec": {
   "display_name": "Python 3",
   "language": "python",
   "name": "python3"
  },
  "language_info": {
   "codemirror_mode": {
    "name": "ipython",
    "version": 3
   },
   "file_extension": ".py",
   "mimetype": "text/x-python",
   "name": "python",
   "nbconvert_exporter": "python",
   "pygments_lexer": "ipython3",
   "version": "3.7.12"
  },
  "papermill": {
   "default_parameters": {},
   "duration": 47.983317,
   "end_time": "2022-09-01T15:45:39.014034",
   "environment_variables": {},
   "exception": null,
   "input_path": "__notebook__.ipynb",
   "output_path": "__notebook__.ipynb",
   "parameters": {},
   "start_time": "2022-09-01T15:44:51.030717",
   "version": "2.3.4"
  }
 },
 "nbformat": 4,
 "nbformat_minor": 5
}
