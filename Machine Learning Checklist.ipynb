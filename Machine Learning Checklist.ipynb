{
 "cells": [
  {
   "cell_type": "markdown",
   "metadata": {},
   "source": [
    "**Machine Learning Project Checklist**"
   ]
  },
  {
   "cell_type": "markdown",
   "metadata": {},
   "source": [
    "1. Frame the problem and look at the big picture.\n",
    "2. Get the data.\n",
    "3. Explore the data to gain insights.\n",
    "4. Prepare the data to better expose the underlying data patterns to Machine Learn‐\n",
    "ing algorithms.\n",
    "5. Explore many different models and shortlist the best ones.\n",
    "6. Fine-tune your models and combine them into a great solution.\n",
    "7. Present your solution.\n",
    "8. Launch, monitor, and maintain your system."
   ]
  },
  {
   "cell_type": "markdown",
   "metadata": {},
   "source": [
    "Frame the Problem and Look at the Big Picture"
   ]
  },
  {
   "cell_type": "markdown",
   "metadata": {},
   "source": [
    "1. Define the objective in business terms.\n",
    "2. How will your solution be used?\n",
    "3. What are the current solutions/workarounds (if any)?\n",
    "4. How should you frame this problem (supervised/unsupervised, online/offline,\n",
    "etc.)?\n",
    "5. How should performance be measured?\n",
    "6. Is the performance measure aligned with the business objective?\n",
    "7. What would be the minimum performance needed to reach the business objec‐\n",
    "tive?\n",
    "8. What are comparable problems? Can you reuse experience or tools?\n",
    "9. Is human expertise available?\n",
    "10. How would you solve the problem manually?\n",
    "11. List the assumptions you (or others) have made so far.\n",
    "12. Verify assumptions if possible."
   ]
  },
  {
   "cell_type": "markdown",
   "metadata": {},
   "source": [
    "Get the Data"
   ]
  },
  {
   "cell_type": "markdown",
   "metadata": {},
   "source": [
    "1. List the data you need and how much you need.\n",
    "2. Find and document where you can get that data.\n",
    "3. Check how much space it will take.\n",
    "4. Check legal obligations, and get authorization if necessary.\n",
    "5. Get access authorizations.\n",
    "6. Create a workspace (with enough storage space).\n",
    "7. Get the data.\n",
    "8. Convert the data to a format you can easily manipulate (without changing the\n",
    "data itself).\n",
    "9. Ensure sensitive information is deleted or protected (e.g., anonymized).\n",
    "10. Check the size and type of data (time series, sample, geographical, etc.).\n",
    "11. Sample a test set, put it aside, and never look at it (no data snooping!)."
   ]
  },
  {
   "cell_type": "markdown",
   "metadata": {},
   "source": [
    "Explore the Data"
   ]
  },
  {
   "cell_type": "markdown",
   "metadata": {},
   "source": [
    "1. Create a copy of the data for exploration (sampling it down to a manageable size\n",
    "if necessary).\n",
    "2. Create a Jupyter notebook to keep a record of your data exploration.\n",
    "3. Study each attribute and its characteristics:\n",
    "\n",
    "• Name\n",
    "\n",
    "• Type (categorical, int/float, bounded/unbounded, text, structured, etc.)\n",
    "\n",
    "• % of missing values\n",
    "\n",
    "• Noisiness and type of noise (stochastic, outliers, rounding errors, etc.)\n",
    "\n",
    "• Usefulness for the task\n",
    "\n",
    "• Type of distribution (Gaussian, uniform, logarithmic, etc.)\n",
    "\n",
    "4. For supervised learning tasks, identify the target attribute(s).\n",
    "5. Visualize the data.\n",
    "6. Study the correlations between attributes.\n",
    "7. Study how you would solve the problem manually.\n",
    "8. Identify the promising transformations you may want to apply.\n",
    "9. Identify extra data that would be useful\n",
    "10. Document what you have learned.\n",
    "\n"
   ]
  },
  {
   "cell_type": "markdown",
   "metadata": {},
   "source": [
    "Prepare the Data"
   ]
  },
  {
   "cell_type": "markdown",
   "metadata": {},
   "source": [
    "• Work on copies of the data (keep the original dataset intact).\n",
    "\n",
    "• Write functions for all data transformations you apply, for five reasons:\n",
    "\n",
    "— So you can easily prepare the data the next time you get a fresh dataset\n",
    "\n",
    "— So you can apply these transformations in future projects\n",
    "\n",
    "— To clean and prepare the test set\n",
    "\n",
    "— To clean and prepare new data instances once your solution is live\n",
    "\n",
    "— To make it easy to treat your preparation choices as hyperparameters\n",
    "\n",
    "1. Data cleaning:\n",
    "• Fix or remove outliers (optional).\n",
    "• Fill in missing values (e.g., with zero, mean, median…) or drop their rows (or\n",
    "columns).\n",
    "2. Feature selection (optional):\n",
    "• Drop the attributes that provide no useful information for the task.\n",
    "3. Feature engineering, where appropriate:\n",
    "• Discretize continuous features.\n",
    "• Decompose features (e.g., categorical, date/time, etc.).\n",
    "• Add promising transformations of features (e.g., log(x), sqrt(x), x\n",
    "2\n",
    ", etc.).\n",
    "• Aggregate features into promising new features.\n",
    "4. Feature scaling:\n",
    "• Standardize or normalize features."
   ]
  },
  {
   "cell_type": "markdown",
   "metadata": {},
   "source": [
    "Shortlist Promising Models"
   ]
  },
  {
   "cell_type": "markdown",
   "metadata": {},
   "source": [
    "If the data is huge, you may want to sample smaller training sets so you can train\n",
    "many different models in a reasonable time (be aware that this penalizes complex\n",
    "models such as large neural nets or Random Forests).\n",
    "• Once again, try to automate these steps as much as possible.\n",
    "1. Train many quick-and-dirty models from different categories (e.g., linear, naive\n",
    "Bayes, SVM, Random Forest, neural net, etc.) using standard parameters.\n",
    "2. Measure and compare their performance.\n",
    "• For each model, use N-fold cross-validation and compute the mean and stan‐\n",
    "dard deviation of the performance measure on the N folds.\n",
    "3. Analyze the most significant variables for each algorithm.\n",
    "4. Analyze the types of errors the models make.\n",
    "• What data would a human have used to avoid these errors?\n",
    "5. Perform a quick round of feature selection and engineering.\n",
    "6. Perform one or two more quick iterations of the five previous steps.\n",
    "7. Shortlist the top three to five most promising models, preferring models that\n",
    "make different types of errors.\n"
   ]
  },
  {
   "cell_type": "markdown",
   "metadata": {},
   "source": [
    "Fine-Tune the System"
   ]
  },
  {
   "cell_type": "markdown",
   "metadata": {},
   "source": [
    "• You will want to use as much data as possible for this step, especially as you move\n",
    "toward the end of fine-tuning.\n",
    "1. Fine-tune the hyperparameters using cross-validation:\n",
    "\n",
    "• Treat your data transformation choices as hyperparameters, especially when\n",
    "you are not sure about them (e.g., if you’re not sure whether to replace missing\n",
    "values with zeros or with the median value, or to just drop the rows).\n",
    "\n",
    "• Unless there are very few hyperparameter values to explore, prefer random\n",
    "search over grid search. If training is very long, you may prefer a Bayesian\n",
    "optimization approach\n",
    "\n",
    "2. Try Ensemble methods. Combining your best models will often produce better\n",
    "performance than running them individually.\n",
    "3. Once you are confident about your final model, measure its performance on the\n",
    "test set to estimate the generalization error"
   ]
  },
  {
   "cell_type": "markdown",
   "metadata": {},
   "source": [
    "Present Your Solution"
   ]
  },
  {
   "cell_type": "markdown",
   "metadata": {},
   "source": [
    "1. Document what you have done.\n",
    "2. Create a nice presentation.\n",
    "• Make sure you highlight the big picture first.\n",
    "3. Explain why your solution achieves the business objective.\n",
    "4. Don’t forget to present interesting points you noticed along the way.\n",
    "• Describe what worked and what did not.\n",
    "• List your assumptions and your system’s limitations.\n",
    "5. Ensure your key findings are communicated through beautiful visualizations or\n",
    "easy-to-remember statements (e.g., “the median income is the number-one pre‐\n",
    "dictor of housing prices”)."
   ]
  },
  {
   "cell_type": "markdown",
   "metadata": {},
   "source": [
    "Launch!\n"
   ]
  },
  {
   "cell_type": "markdown",
   "metadata": {},
   "source": [
    "1. Get your solution ready for production (plug into production data inputs, write\n",
    "unit tests, etc.).\n",
    "2. Write monitoring code to check your system’s live performance at regular inter‐\n",
    "vals and trigger alerts when it drops.\n",
    "\n",
    "• Beware of slow degradation: models tend to “rot” as data evolves.\n",
    "\n",
    "• Measuring performance may require a human pipeline (e.g., via a crowdsourc‐\n",
    "ing service).\n",
    "\n",
    "• Also monitor your inputs’ quality (e.g., a malfunctioning sensor sending ran‐\n",
    "dom values, or another team’s output becoming stale). This is particularly\n",
    "important for online learning systems.\n",
    "\n",
    "3. Retrain your models on a regular basis on fresh data (automate as much as\n",
    "possible).\n"
   ]
  }
 ],
 "metadata": {
  "language_info": {
   "name": "python"
  }
 },
 "nbformat": 4,
 "nbformat_minor": 2
}
